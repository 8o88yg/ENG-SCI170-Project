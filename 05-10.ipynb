{
 "cells": [
  {
   "cell_type": "markdown",
   "metadata": {},
   "source": [
    "## Final Project\n",
    "By: Lisa Chille, Bobby Gonzalez, Bahlakoana Mabetha"
   ]
  },
  {
   "cell_type": "code",
   "execution_count": 1,
   "metadata": {},
   "outputs": [],
   "source": [
    "import numpy as np\n",
    "from scipy.optimize import fmin_l_bfgs_b as lbfgs\n",
    "#from scipy.optimize import minimize\n",
    "import matplotlib.pyplot as plt\n",
    "from qutip import *\n",
    "%matplotlib notebook\n",
    "from IPython.display import Image\n",
    "\n",
    "from openfermion.hamiltonians import MolecularData\n",
    "from openfermion.transforms import get_sparse_operator\n",
    "from openfermion.utils import get_ground_state"
   ]
  },
  {
   "cell_type": "markdown",
   "metadata": {},
   "source": [
    "## Reference\n",
    "https://arxiv.org/pdf/1612.02806.pdf - mainly based on this paper."
   ]
  },
  {
   "cell_type": "markdown",
   "metadata": {},
   "source": [
    "## Functions "
   ]
  },
  {
   "cell_type": "markdown",
   "metadata": {},
   "source": [
    "### Unitary gate\n",
    "The unitary gate architecture, $U_p$, it takes in angles as parameters."
   ]
  },
  {
   "cell_type": "code",
   "execution_count": 2,
   "metadata": {},
   "outputs": [],
   "source": [
    "def unitary_p (p_values):\n",
    "    N = 4\n",
    "    qc = QubitCircuit(N) # Initialize quantum circuit with 4 qubits\n",
    "\n",
    "    # Add Gates\n",
    "    qc.add_gate(\"PHASEGATE\", 0, None, p_values[0]) \n",
    "    qc.add_gate(\"PHASEGATE\", 1, None, p_values[1]) \n",
    "    qc.add_gate(\"PHASEGATE\", 2, None, p_values[2]) \n",
    "    qc.add_gate(\"PHASEGATE\", 3, None, p_values[3]) \n",
    "    qc.add_gate(\"CPHASE\", 1, 0, p_values[4]) \n",
    "    qc.add_gate(\"CPHASE\", 2, 0, p_values[5]) \n",
    "    qc.add_gate(\"CPHASE\", 3, 0, p_values[6]) \n",
    "    qc.add_gate(\"CPHASE\", 0, 1, p_values[7]) \n",
    "    qc.add_gate(\"CPHASE\", 2, 1, p_values[8]) \n",
    "    qc.add_gate(\"CPHASE\", 3, 1, p_values[9]) \n",
    "    qc.add_gate(\"CPHASE\", 0, 2, p_values[10]) \n",
    "    qc.add_gate(\"CPHASE\", 1, 2, p_values[11]) \n",
    "    qc.add_gate(\"CPHASE\", 3, 2, p_values[12]) \n",
    "    qc.add_gate(\"CPHASE\", 0, 3, p_values[13]) \n",
    "    qc.add_gate(\"CPHASE\", 1, 3, p_values[14]) \n",
    "    qc.add_gate(\"CPHASE\", 2, 3, p_values[15]) \n",
    "    qc.add_gate(\"PHASEGATE\", 0, None, p_values[16]) \n",
    "    qc.add_gate(\"PHASEGATE\", 1, None, p_values[17]) \n",
    "    qc.add_gate(\"PHASEGATE\", 2, None, p_values[18]) \n",
    "    qc.add_gate(\"PHASEGATE\", 3, None, p_values[19]) \n",
    "\n",
    "    # Find product of gates\n",
    "    U_p = gate_sequence_product(qc.propagators())\n",
    "\n",
    "    return U_p"
   ]
  },
  {
   "cell_type": "markdown",
   "metadata": {},
   "source": [
    "### Fidelity\n",
    "The `fidelity` function, $F(|\\psi_i \\rangle, \\rho_i^{out}) = \\langle \\psi_i|\\rho_i^{out}|\\psi_i \\rangle$. In this case, the variables to $F$ are $Tr_A[U_{}]$. Where $Tr_A$ is interpreted to be the partial trace over the qubits that we keep after encoding. "
   ]
  },
  {
   "cell_type": "code",
   "execution_count": 3,
   "metadata": {},
   "outputs": [],
   "source": [
    "def fidelity(unitary_p, psis, reference):\n",
    "    expects = 0\n",
    "    for i in range(len(psis)):\n",
    "        psi=psis[i]\n",
    "        psi_tens = Qobj(np.dot(psi.data.todense(),psi.data.todense().T))\n",
    "        unitary_mapping=Qobj(np.dot(unitary_p.data.todense(),np.dot(unitary_p.data.todense(),psi_tens.data.todense())))\n",
    "        unitary_mapping.dims = [[[2,2],[2,2]],[[2,2],[2,2]]]\n",
    "        partial = unitary_mapping.ptrace([2,3])\n",
    "        partial.dims= [[4], [4]]\n",
    "        expects += expect(partial,reference)\n",
    "    return expects"
   ]
  },
  {
   "cell_type": "markdown",
   "metadata": {},
   "source": [
    "### Cost function\n",
    "The `cost` function, $C_2(\\vec{p})$. It takes in the fidelity and rotation angles and sums over the product of the two."
   ]
  },
  {
   "cell_type": "code",
   "execution_count": 4,
   "metadata": {},
   "outputs": [],
   "source": [
    "'''\n",
    "def cost(params, *args):\n",
    "    cost = 0\n",
    "    unitary = unitary_p(params)\n",
    "    for p in params:\n",
    "        cost += p*fidelity(unitary,args[0],args[1])\n",
    "    return 1 - cost\n",
    "\n",
    "'''    \n",
    "def cost(params, *args):\n",
    "    cost = 0\n",
    "    psis = args[0]\n",
    "    reference = args[1]\n",
    "    U_p = unitary_p(params)\n",
    "    U_p.dims=[[16],[16]]\n",
    "    for i in range(len(psis)):\n",
    "        psi_in = psis[i]\n",
    "        psi_up = np.dot(U_p, psi_in)\n",
    "        psi_swap = swap_trashref(psi_up, reference, params)\n",
    "        psi_out = np.dot(U_p.dag(), psi_swap)\n",
    "        ampl = psi_in.trans()*psi_out\n",
    "        prob = ampl.dag()*ampl\n",
    "        prob = prob.data.toarray()\n",
    "        cost += prob \n",
    "    return 1 - cost[0,0]"
   ]
  },
  {
   "cell_type": "markdown",
   "metadata": {},
   "source": [
    "### Reference States\n",
    "The get reference function. It generates the fuction that will be used in decoding stage to recreate the input states. It also used to calculate fidelity. In this case we are using the $|0\\rangle$ as reference states. It takes in K, number of bits to be replaced, i, basis state used, length."
   ]
  },
  {
   "cell_type": "code",
   "execution_count": 5,
   "metadata": {},
   "outputs": [],
   "source": [
    "def get_reference(states, k):\n",
    "    reference = states [k]\n",
    "    reference = Qobj(reference[0:8])\n",
    "    return reference"
   ]
  },
  {
   "cell_type": "markdown",
   "metadata": {},
   "source": [
    "### Ground States of a H2 Molecule\n",
    "The `get_inputs` function. The function returns the groundstate and energies of the $H_2$ molecule for different molecular raduis."
   ]
  },
  {
   "cell_type": "code",
   "execution_count": 6,
   "metadata": {},
   "outputs": [],
   "source": [
    "def get_inputs():\n",
    "    states = []\n",
    "    energies = []\n",
    "    for i in np.arange(0.2,4.2,0.1):\n",
    "        string = 'H2_sto-3g_singlet_'+str(i)+'.hdf5'\n",
    "        molecule = MolecularData(filename = string)\n",
    "        molecular_ham = molecule.get_molecular_hamiltonian()\n",
    "        molecular_ham_sparse = get_sparse_operator(operator=molecular_ham, n_qubits=4)\n",
    "        ground_energy, ground_state = get_ground_state(molecular_ham_sparse)\n",
    "        energies.append(ground_energy)\n",
    "        states.append(ground_state)\n",
    "    return states, energies"
   ]
  },
  {
   "cell_type": "markdown",
   "metadata": {},
   "source": [
    "### Swap\n",
    "The `swap_trashref` function. This function swaps the trash states with the reference states, the resulting state is used to recreate the input states."
   ]
  },
  {
   "cell_type": "code",
   "execution_count": 7,
   "metadata": {},
   "outputs": [],
   "source": [
    "def swap_trashref(psis, references, params):\n",
    "    unitary = unitary_p(params)\n",
    "    unitary.dims=[[16],[16]]\n",
    "    psi = unitary*psis\n",
    "    psi = psi.data.toarray()\n",
    "    references = references.data.toarray()\n",
    "    k = len(references)\n",
    "    psi_swap = np.concatenate((references, psi[k:len(psi),:]), axis = 0)\n",
    "    psi_swap = Qobj(psi_swap)\n",
    "    return psi_swap"
   ]
  },
  {
   "cell_type": "markdown",
   "metadata": {},
   "source": [
    "### Optimisation\n",
    "This `optimisation` function will apply the unitary as many times as necessary to in order to minimise epsilon where epsilon is determined by the cost function.\n",
    "\n",
    "### Gradient Decent\n",
    "Calculate the hypothesis h = X * theta\n",
    "Calculate the loss = h - y and maybe the squared cost (loss^2)/2m\n",
    "Calculate the gradient = X' * loss / m\n",
    "Update the parameters theta = theta - alpha * gradient\n",
    "\n",
    "https://stackoverflow.com/questions/17784587/gradient-descent-using-python-and-numpy?utm_medium=organic&utm_source=google_rich_qa&utm_campaign=google_rich_qa"
   ]
  },
  {
   "cell_type": "code",
   "execution_count": 8,
   "metadata": {},
   "outputs": [],
   "source": [
    "def gradientDescent(train, reference, p_values, alpha, m, numIterations):\n",
    "    psis = train\n",
    "    losses = []\n",
    "    costs = []\n",
    "    for i in range(0, numIterations):\n",
    "        hypothesis = []\n",
    "        gradient = 0\n",
    "        cost = 0\n",
    "        U_p = unitary_p(p_values)\n",
    "        U_p.dims=[[16],[16]]\n",
    "        for j in range (len(psis)):\n",
    "            psi_in = psis[j]\n",
    "            psi_up = np.dot(U_p, psi_in)\n",
    "            psi_swap = swap_trashref(psi_up, reference, p_values)\n",
    "            psi_out = np.dot(U_p.dag(), psi_swap)\n",
    "            hypothesis.append(psi_out)\n",
    "            \n",
    "            ampl = psi_in.trans()*psi_out\n",
    "            prob = ampl.dag()*ampl\n",
    "            prob = prob.data.toarray()\n",
    "            cost += prob\n",
    "        hypothesis = np.asarray(hypothesis)\n",
    "        #hypothesis = hypothesis.data.toarray()\n",
    "        #train = train.data.toarray()\n",
    "        train = np.asarray(train)\n",
    "        loss = hypothesis - train\n",
    "        # avg gradient per example\n",
    "        for k in range (len(train)):\n",
    "            gradient += train[k].trans()*loss[k]\n",
    "        gradient = gradient[0][0][0] / m\n",
    "        costs.append(cost)\n",
    "        # update\n",
    "        p_values = p_values - alpha * gradient\n",
    "        p_values = p_values.real\n",
    "    return p_values, costs"
   ]
  },
  {
   "cell_type": "markdown",
   "metadata": {},
   "source": [
    "## Create input states"
   ]
  },
  {
   "cell_type": "code",
   "execution_count": 9,
   "metadata": {},
   "outputs": [],
   "source": [
    "states, energies = get_inputs()\n",
    "k = 0\n",
    "reference = get_reference(states, k)"
   ]
  },
  {
   "cell_type": "markdown",
   "metadata": {},
   "source": [
    "## Prepare States"
   ]
  },
  {
   "cell_type": "code",
   "execution_count": 10,
   "metadata": {},
   "outputs": [],
   "source": [
    "for i in range(len(states)):\n",
    "    states[i] = Qobj(states[i])"
   ]
  },
  {
   "cell_type": "markdown",
   "metadata": {},
   "source": [
    "## Prepare Training data"
   ]
  },
  {
   "cell_type": "code",
   "execution_count": 11,
   "metadata": {},
   "outputs": [],
   "source": [
    "test_ind = [1,3,5,7,10,14,18,22,28,36]\n",
    "train = []\n",
    "for i in range(len(test_ind)):\n",
    "    train.append(states[test_ind[i]])"
   ]
  },
  {
   "cell_type": "code",
   "execution_count": 12,
   "metadata": {},
   "outputs": [
    {
     "data": {
      "text/latex": [
       "Quantum object: dims = [[8], [1]], shape = (8, 1), type = ket\\begin{equation*}\\left(\\begin{array}{*{11}c}-4.778\\times10^{-17}\\\\8.809\\times10^{-17}\\\\-2.499\\times10^{-17}\\\\(-0.039+0.015j)\\\\-2.871\\times10^{-17}\\\\-6.780\\times10^{-18}\\\\4.817\\times10^{-17}\\\\1.400\\times10^{-16}\\\\\\end{array}\\right)\\end{equation*}"
      ],
      "text/plain": [
       "Quantum object: dims = [[8], [1]], shape = (8, 1), type = ket\n",
       "Qobj data =\n",
       "[[ -4.77792529e-17 -1.05277101e-19j]\n",
       " [  8.80942537e-17 +1.83797119e-16j]\n",
       " [ -2.49930333e-17 +4.90932310e-17j]\n",
       " [ -3.93979145e-02 +1.54782526e-02j]\n",
       " [ -2.87119123e-17 +2.87189513e-17j]\n",
       " [ -6.78035034e-18 -5.11226063e-17j]\n",
       " [  4.81743691e-17 +7.59067339e-17j]\n",
       " [  1.39996361e-16 -1.53833527e-16j]]"
      ]
     },
     "execution_count": 12,
     "metadata": {},
     "output_type": "execute_result"
    }
   ],
   "source": [
    "reference"
   ]
  },
  {
   "cell_type": "markdown",
   "metadata": {},
   "source": [
    "## Initial rotation angle\n",
    "This assumes that the angles are independent, $P(\\theta_i|\\theta_j) = P(\\theta_i)$. The initial angles are a random guess."
   ]
  },
  {
   "cell_type": "code",
   "execution_count": 13,
   "metadata": {},
   "outputs": [],
   "source": [
    "initial_values = np.random.random_sample(20)*2*np.pi"
   ]
  },
  {
   "cell_type": "markdown",
   "metadata": {},
   "source": [
    "## Train the architecture \n",
    "This is used to determine the optimal angels for each rotation gate. Optimization is done using the lbfgs optimizing function."
   ]
  },
  {
   "cell_type": "code",
   "execution_count": 14,
   "metadata": {},
   "outputs": [],
   "source": [
    "#threeparam1 = lbfgs(cost, x0=initial_values, args=(train,\n",
    "                                                   #reference),\n",
    "                                                   #approx_grad=True)"
   ]
  },
  {
   "cell_type": "code",
   "execution_count": 15,
   "metadata": {},
   "outputs": [],
   "source": [
    "threeparam1, costs = gradientDescent(train, reference, initial_values, 0.01, len(states), 1000)"
   ]
  },
  {
   "cell_type": "markdown",
   "metadata": {},
   "source": [
    "## Compare initial values and optimized values"
   ]
  },
  {
   "cell_type": "code",
   "execution_count": 16,
   "metadata": {},
   "outputs": [
    {
     "data": {
      "text/plain": [
       "array([ 2.70241768,  2.57503959,  4.01136425,  3.10737094,  0.08332656,\n",
       "        3.78507115,  5.47977885,  2.99916006,  3.95196265,  5.09168421,\n",
       "        1.24382112,  5.81866979,  0.55941062,  2.58223849,  4.25905621,\n",
       "        1.2309486 ,  4.8957945 ,  0.76611861,  0.8470052 ,  2.5768277 ])"
      ]
     },
     "execution_count": 16,
     "metadata": {},
     "output_type": "execute_result"
    }
   ],
   "source": [
    "initial_values"
   ]
  },
  {
   "cell_type": "code",
   "execution_count": 17,
   "metadata": {},
   "outputs": [
    {
     "data": {
      "text/plain": [
       "3.5431999917654728"
      ]
     },
     "execution_count": 17,
     "metadata": {},
     "output_type": "execute_result"
    }
   ],
   "source": [
    "threeparam1[0]%(2*np.pi)"
   ]
  },
  {
   "cell_type": "code",
   "execution_count": 18,
   "metadata": {},
   "outputs": [
    {
     "data": {
      "text/plain": [
       "array([ 3.54319999,  3.4158219 ,  4.85214656,  3.94815326,  0.92410887,\n",
       "        4.62585347,  6.32056116,  3.83994237,  4.79274497,  5.93246653,\n",
       "        2.08460344,  6.6594521 ,  1.40019294,  3.42302081,  5.09983853,\n",
       "        2.07173091,  5.73657681,  1.60690093,  1.68778751,  3.41761001])"
      ]
     },
     "execution_count": 18,
     "metadata": {},
     "output_type": "execute_result"
    }
   ],
   "source": [
    "threeparam1"
   ]
  },
  {
   "cell_type": "markdown",
   "metadata": {},
   "source": [
    "## Input the optimized values in the architecture"
   ]
  },
  {
   "cell_type": "code",
   "execution_count": 19,
   "metadata": {},
   "outputs": [
    {
     "data": {
      "text/latex": [
       "Quantum object: dims = [[16], [16]], shape = (16, 16), type = oper, isherm = False\\begin{equation*}\\left(\\begin{array}{*{11}c}1.0 & 0.0 & 0.0 & 0.0 & 0.0 & \\cdots & 0.0 & 0.0 & 0.0 & 0.0 & 0.0\\\\0.0 & (0.469+0.883j) & 0.0 & 0.0 & 0.0 & \\cdots & 0.0 & 0.0 & 0.0 & 0.0 & 0.0\\\\0.0 & 0.0 & (0.967+0.254j) & 0.0 & 0.0 & \\cdots & 0.0 & 0.0 & 0.0 & 0.0 & 0.0\\\\0.0 & 0.0 & 0.0 & (0.099-0.995j) & 0.0 & \\cdots & 0.0 & 0.0 & 0.0 & 0.0 & 0.0\\\\0.0 & 0.0 & 0.0 & 0.0 & (0.305-0.952j) & \\cdots & 0.0 & 0.0 & 0.0 & 0.0 & 0.0\\\\\\vdots & \\vdots & \\vdots & \\vdots & \\vdots & \\ddots & \\vdots & \\vdots & \\vdots & \\vdots & \\vdots\\\\0.0 & 0.0 & 0.0 & 0.0 & 0.0 & \\cdots & (0.644-0.765j) & 0.0 & 0.0 & 0.0 & 0.0\\\\0.0 & 0.0 & 0.0 & 0.0 & 0.0 & \\cdots & 0.0 & (0.977+0.215j) & 0.0 & 0.0 & 0.0\\\\0.0 & 0.0 & 0.0 & 0.0 & 0.0 & \\cdots & 0.0 & 0.0 & (-0.996-0.084j) & 0.0 & 0.0\\\\0.0 & 0.0 & 0.0 & 0.0 & 0.0 & \\cdots & 0.0 & 0.0 & 0.0 & (0.977-0.212j) & 0.0\\\\0.0 & 0.0 & 0.0 & 0.0 & 0.0 & \\cdots & 0.0 & 0.0 & 0.0 & 0.0 & (1.000-0.016j)\\\\\\end{array}\\right)\\end{equation*}"
      ],
      "text/plain": [
       "Quantum object: dims = [[16], [16]], shape = (16, 16), type = oper, isherm = False\n",
       "Qobj data =\n",
       "[[ 1.00000000+0.j          0.00000000+0.j          0.00000000+0.j\n",
       "   0.00000000+0.j          0.00000000+0.j          0.00000000+0.j\n",
       "   0.00000000+0.j          0.00000000+0.j          0.00000000+0.j\n",
       "   0.00000000+0.j          0.00000000+0.j          0.00000000+0.j\n",
       "   0.00000000+0.j          0.00000000+0.j          0.00000000+0.j\n",
       "   0.00000000+0.j        ]\n",
       " [ 0.00000000+0.j          0.46905314+0.88316994j  0.00000000+0.j\n",
       "   0.00000000+0.j          0.00000000+0.j          0.00000000+0.j\n",
       "   0.00000000+0.j          0.00000000+0.j          0.00000000+0.j\n",
       "   0.00000000+0.j          0.00000000+0.j          0.00000000+0.j\n",
       "   0.00000000+0.j          0.00000000+0.j          0.00000000+0.j\n",
       "   0.00000000+0.j        ]\n",
       " [ 0.00000000+0.j          0.00000000+0.j          0.96722070+0.25393724j\n",
       "   0.00000000+0.j          0.00000000+0.j          0.00000000+0.j\n",
       "   0.00000000+0.j          0.00000000+0.j          0.00000000+0.j\n",
       "   0.00000000+0.j          0.00000000+0.j          0.00000000+0.j\n",
       "   0.00000000+0.j          0.00000000+0.j          0.00000000+0.j\n",
       "   0.00000000+0.j        ]\n",
       " [ 0.00000000+0.j          0.00000000+0.j          0.00000000+0.j\n",
       "   0.09870065-0.99511717j  0.00000000+0.j          0.00000000+0.j\n",
       "   0.00000000+0.j          0.00000000+0.j          0.00000000+0.j\n",
       "   0.00000000+0.j          0.00000000+0.j          0.00000000+0.j\n",
       "   0.00000000+0.j          0.00000000+0.j          0.00000000+0.j\n",
       "   0.00000000+0.j        ]\n",
       " [ 0.00000000+0.j          0.00000000+0.j          0.00000000+0.j\n",
       "   0.00000000+0.j          0.30537656-0.95223167j  0.00000000+0.j\n",
       "   0.00000000+0.j          0.00000000+0.j          0.00000000+0.j\n",
       "   0.00000000+0.j          0.00000000+0.j          0.00000000+0.j\n",
       "   0.00000000+0.j          0.00000000+0.j          0.00000000+0.j\n",
       "   0.00000000+0.j        ]\n",
       " [ 0.00000000+0.j          0.00000000+0.j          0.00000000+0.j\n",
       "   0.00000000+0.j          0.00000000+0.j         -0.14068547-0.99005434j\n",
       "   0.00000000+0.j          0.00000000+0.j          0.00000000+0.j\n",
       "   0.00000000+0.j          0.00000000+0.j          0.00000000+0.j\n",
       "   0.00000000+0.j          0.00000000+0.j          0.00000000+0.j\n",
       "   0.00000000+0.j        ]\n",
       " [ 0.00000000+0.j          0.00000000+0.j          0.00000000+0.j\n",
       "   0.00000000+0.j          0.00000000+0.j          0.00000000+0.j\n",
       "  -0.52020496-0.85404145j  0.00000000+0.j          0.00000000+0.j\n",
       "   0.00000000+0.j          0.00000000+0.j          0.00000000+0.j\n",
       "   0.00000000+0.j          0.00000000+0.j          0.00000000+0.j\n",
       "   0.00000000+0.j        ]\n",
       " [ 0.00000000+0.j          0.00000000+0.j          0.00000000+0.j\n",
       "   0.00000000+0.j          0.00000000+0.j          0.00000000+0.j\n",
       "   0.00000000+0.j          0.61961124+0.78490885j  0.00000000+0.j\n",
       "   0.00000000+0.j          0.00000000+0.j          0.00000000+0.j\n",
       "   0.00000000+0.j          0.00000000+0.j          0.00000000+0.j\n",
       "   0.00000000+0.j        ]\n",
       " [ 0.00000000+0.j          0.00000000+0.j          0.00000000+0.j\n",
       "   0.00000000+0.j          0.00000000+0.j          0.00000000+0.j\n",
       "   0.00000000+0.j          0.00000000+0.j         -0.98950574+0.14449357j\n",
       "   0.00000000+0.j          0.00000000+0.j          0.00000000+0.j\n",
       "   0.00000000+0.j          0.00000000+0.j          0.00000000+0.j\n",
       "   0.00000000+0.j        ]\n",
       " [ 0.00000000+0.j          0.00000000+0.j          0.00000000+0.j\n",
       "   0.00000000+0.j          0.00000000+0.j          0.00000000+0.j\n",
       "   0.00000000+0.j          0.00000000+0.j          0.00000000+0.j\n",
       "   0.30926068+0.9509773j   0.00000000+0.j          0.00000000+0.j\n",
       "   0.00000000+0.j          0.00000000+0.j          0.00000000+0.j\n",
       "   0.00000000+0.j        ]\n",
       " [ 0.00000000+0.j          0.00000000+0.j          0.00000000+0.j\n",
       "   0.00000000+0.j          0.00000000+0.j          0.00000000+0.j\n",
       "   0.00000000+0.j          0.00000000+0.j          0.00000000+0.j\n",
       "   0.00000000+0.j         -0.85821253-0.51329451j  0.00000000+0.j\n",
       "   0.00000000+0.j          0.00000000+0.j          0.00000000+0.j\n",
       "   0.00000000+0.j        ]\n",
       " [ 0.00000000+0.j          0.00000000+0.j          0.00000000+0.j\n",
       "   0.00000000+0.j          0.00000000+0.j          0.00000000+0.j\n",
       "   0.00000000+0.j          0.00000000+0.j          0.00000000+0.j\n",
       "   0.00000000+0.j          0.00000000+0.j          0.64416878-0.76488338j\n",
       "   0.00000000+0.j          0.00000000+0.j          0.00000000+0.j\n",
       "   0.00000000+0.j        ]\n",
       " [ 0.00000000+0.j          0.00000000+0.j          0.00000000+0.j\n",
       "   0.00000000+0.j          0.00000000+0.j          0.00000000+0.j\n",
       "   0.00000000+0.j          0.00000000+0.j          0.00000000+0.j\n",
       "   0.00000000+0.j          0.00000000+0.j          0.00000000+0.j\n",
       "   0.97654883+0.21529603j  0.00000000+0.j          0.00000000+0.j\n",
       "   0.00000000+0.j        ]\n",
       " [ 0.00000000+0.j          0.00000000+0.j          0.00000000+0.j\n",
       "   0.00000000+0.j          0.00000000+0.j          0.00000000+0.j\n",
       "   0.00000000+0.j          0.00000000+0.j          0.00000000+0.j\n",
       "   0.00000000+0.j          0.00000000+0.j          0.00000000+0.j\n",
       "   0.00000000+0.j         -0.99644790-0.08421153j  0.00000000+0.j\n",
       "   0.00000000+0.j        ]\n",
       " [ 0.00000000+0.j          0.00000000+0.j          0.00000000+0.j\n",
       "   0.00000000+0.j          0.00000000+0.j          0.00000000+0.j\n",
       "   0.00000000+0.j          0.00000000+0.j          0.00000000+0.j\n",
       "   0.00000000+0.j          0.00000000+0.j          0.00000000+0.j\n",
       "   0.00000000+0.j          0.00000000+0.j          0.97736768-0.21154769j\n",
       "   0.00000000+0.j        ]\n",
       " [ 0.00000000+0.j          0.00000000+0.j          0.00000000+0.j\n",
       "   0.00000000+0.j          0.00000000+0.j          0.00000000+0.j\n",
       "   0.00000000+0.j          0.00000000+0.j          0.00000000+0.j\n",
       "   0.00000000+0.j          0.00000000+0.j          0.00000000+0.j\n",
       "   0.00000000+0.j          0.00000000+0.j          0.00000000+0.j\n",
       "   0.99987971-0.01550998j]]"
      ]
     },
     "metadata": {},
     "output_type": "display_data"
    }
   ],
   "source": [
    "opt_p = threeparam1%(2*np.pi)\n",
    "U_p = unitary_p(opt_p)\n",
    "U_p.dims=[[16],[16]]\n",
    "display(U_p)"
   ]
  },
  {
   "cell_type": "markdown",
   "metadata": {},
   "source": [
    "## Compute encoding "
   ]
  },
  {
   "cell_type": "code",
   "execution_count": 20,
   "metadata": {},
   "outputs": [],
   "source": [
    "probs = []\n",
    "for i in range(len(states)):\n",
    "    psi_in = states[i]\n",
    "    psi_up = np.dot(U_p, psi_in)\n",
    "    psi_up = psi_up /(psi_up.norm())\n",
    "    psi_swap = swap_trashref(psi_up, reference, opt_p)\n",
    "    psi_swap = psi_swap /(psi_swap.norm())\n",
    "    psi_out = np.dot(U_p.dag(), psi_swap)\n",
    "    psi_out = psi_out/(psi_out.norm()) \n",
    "    ampl = psi_in.dag()*psi_out\n",
    "    amp2 = psi_out.dag()*psi_in\n",
    "    prob = ampl*amp2\n",
    "    # prob = ampl.dag()*ampl\n",
    "    prob = prob.data.toarray()\n",
    "    probs.append(prob[0][0])"
   ]
  },
  {
   "cell_type": "code",
   "execution_count": 21,
   "metadata": {},
   "outputs": [],
   "source": [
    "amp2 = psi_out.dag()*psi_in\n",
    "prob = ampl*amp2"
   ]
  },
  {
   "cell_type": "code",
   "execution_count": 22,
   "metadata": {},
   "outputs": [
    {
     "data": {
      "text/plain": [
       "array([[ 0.55448815+0.j]])"
      ]
     },
     "execution_count": 22,
     "metadata": {},
     "output_type": "execute_result"
    }
   ],
   "source": [
    "prob[0]"
   ]
  },
  {
   "cell_type": "code",
   "execution_count": 23,
   "metadata": {},
   "outputs": [],
   "source": [
    "prob = ampl.dag()*ampl"
   ]
  },
  {
   "cell_type": "code",
   "execution_count": 24,
   "metadata": {},
   "outputs": [
    {
     "data": {
      "text/latex": [
       "Quantum object: dims = [[1], [1]], shape = (1, 1), type = bra\\begin{equation*}\\left(\\begin{array}{*{11}c}0.554\\\\\\end{array}\\right)\\end{equation*}"
      ],
      "text/plain": [
       "Quantum object: dims = [[1], [1]], shape = (1, 1), type = bra\n",
       "Qobj data =\n",
       "[[ 0.55448815]]"
      ]
     },
     "execution_count": 24,
     "metadata": {},
     "output_type": "execute_result"
    }
   ],
   "source": [
    "prob"
   ]
  },
  {
   "cell_type": "markdown",
   "metadata": {},
   "source": [
    "## Plot the recreation probability"
   ]
  },
  {
   "cell_type": "code",
   "execution_count": 25,
   "metadata": {},
   "outputs": [
    {
     "data": {
      "text/plain": [
       "[(0.99753404148171732+0j),\n",
       " (0.99555349391248338+0j),\n",
       " (0.98968898750860146+0j),\n",
       " (0.99204382212967901+0j),\n",
       " (0.99644546636783893+0j),\n",
       " (0.98884148782684833+0j),\n",
       " (0.97237479894063628+0j),\n",
       " (0.96470134981579503+0j),\n",
       " (0.98216944404675166+0j),\n",
       " (0.97338518577880617+0j),\n",
       " (0.94322263850233656+0j),\n",
       " (0.90121954300106011+0j),\n",
       " (0.92562039865829104+0j),\n",
       " (0.8423281132751691+0j),\n",
       " (0.8670536501192565+0j),\n",
       " (0.80274950138241408+0j),\n",
       " (0.81040883279545373+0j),\n",
       " (0.70017307850956134+0j),\n",
       " (0.68576499495134824+0j),\n",
       " (0.72018468861822704+0j),\n",
       " (0.68065497190393354+0j),\n",
       " (0.60191715136260293+0j),\n",
       " (0.5991079890119444+0j),\n",
       " (0.6380197136982535+0j),\n",
       " (0.57817190663104467+0j),\n",
       " (0.51738068860255904+0j),\n",
       " (0.49954077134522729+0j),\n",
       " (0.53617473191362153+0j),\n",
       " (0.59146449259480749+0j),\n",
       " (0.54692866250997751+0j),\n",
       " (0.47195896713613905+0j),\n",
       " (0.49560800953023443+0j),\n",
       " (0.54188408424060186+0j),\n",
       " (0.4560918250795794+0j),\n",
       " (0.47928643017200379+0j),\n",
       " (0.45365692333653573+0j),\n",
       " (0.55673395165402684+0j),\n",
       " (0.49009292886406758+0j),\n",
       " (0.53814992372528736+0j),\n",
       " (0.5544881485398232+0j)]"
      ]
     },
     "execution_count": 25,
     "metadata": {},
     "output_type": "execute_result"
    }
   ],
   "source": [
    "probs"
   ]
  },
  {
   "cell_type": "code",
   "execution_count": 26,
   "metadata": {},
   "outputs": [
    {
     "name": "stderr",
     "output_type": "stream",
     "text": [
      "/anaconda3/lib/python3.6/site-packages/numpy/core/numeric.py:583: ComplexWarning: Casting complex values to real discards the imaginary part\n",
      "  return array(a, dtype, copy=False, order=order, subok=True)\n"
     ]
    },
    {
     "data": {
      "text/plain": [
       "Text(0.5,0,'Molecular Bond Length (Angstrom)')"
      ]
     },
     "execution_count": 26,
     "metadata": {},
     "output_type": "execute_result"
    },
    {
     "data": {
      "image/png": "[encoded data removed]",
      "text/plain": [
       "<matplotlib.figure.Figure at 0x7effb869ecc0>"
      ]
     },
     "metadata": {},
     "output_type": "display_data"
    }
   ],
   "source": [
    "x = np.arange(0.2,4.2,0.1)\n",
    "plt.scatter(x,probs, c = 'r')\n",
    "plt.title('Ground State Reconstruction - Simple Cost')\n",
    "plt.ylabel('Reconstruction Accuracy')\n",
    "plt.xlabel('Molecular Bond Length (Angstrom)')"
   ]
  },
  {
   "cell_type": "code",
   "execution_count": 27,
   "metadata": {},
   "outputs": [
    {
     "data": {
      "text/plain": [
       "[array([[ 6.88613022+0.j]]),\n",
       " array([[ 6.88615855+0.j]]),\n",
       " array([[ 6.88618724+0.j]]),\n",
       " array([[ 6.8862163+0.j]]),\n",
       " array([[ 6.88624572+0.j]]),\n",
       " array([[ 6.88627552+0.j]]),\n",
       " array([[ 6.88630569+0.j]]),\n",
       " array([[ 6.88633625+0.j]]),\n",
       " array([[ 6.88636719+0.j]]),\n",
       " array([[ 6.88639851+0.j]]),\n",
       " array([[ 6.88643023+0.j]]),\n",
       " array([[ 6.88646234+0.j]]),\n",
       " array([[ 6.88649486+0.j]]),\n",
       " array([[ 6.88652777+0.j]]),\n",
       " array([[ 6.8865611+0.j]]),\n",
       " array([[ 6.88659483+0.j]]),\n",
       " array([[ 6.88662898+0.j]]),\n",
       " array([[ 6.88666355+0.j]]),\n",
       " array([[ 6.88669855+0.j]]),\n",
       " array([[ 6.88673397+0.j]]),\n",
       " array([[ 6.88676982+0.j]]),\n",
       " array([[ 6.88680611+0.j]]),\n",
       " array([[ 6.88684285+0.j]]),\n",
       " array([[ 6.88688002+0.j]]),\n",
       " array([[ 6.88691765+0.j]]),\n",
       " array([[ 6.88695573+0.j]]),\n",
       " array([[ 6.88699427+0.j]]),\n",
       " array([[ 6.88703327+0.j]]),\n",
       " array([[ 6.88707274+0.j]]),\n",
       " array([[ 6.88711269+0.j]]),\n",
       " array([[ 6.8871531+0.j]]),\n",
       " array([[ 6.88719401+0.j]]),\n",
       " array([[ 6.88723539+0.j]]),\n",
       " array([[ 6.88727727+0.j]]),\n",
       " array([[ 6.88731965+0.j]]),\n",
       " array([[ 6.88736252+0.j]]),\n",
       " array([[ 6.88740591+0.j]]),\n",
       " array([[ 6.8874498+0.j]]),\n",
       " array([[ 6.88749421+0.j]]),\n",
       " array([[ 6.88753914+0.j]]),\n",
       " array([[ 6.8875846+0.j]]),\n",
       " array([[ 6.88763059+0.j]]),\n",
       " array([[ 6.88767711+0.j]]),\n",
       " array([[ 6.88772418+0.j]]),\n",
       " array([[ 6.8877718+0.j]]),\n",
       " array([[ 6.88781996+0.j]]),\n",
       " array([[ 6.88786869+0.j]]),\n",
       " array([[ 6.88791798+0.j]]),\n",
       " array([[ 6.88796784+0.j]]),\n",
       " array([[ 6.88801827+0.j]]),\n",
       " array([[ 6.88806929+0.j]]),\n",
       " array([[ 6.88812089+0.j]]),\n",
       " array([[ 6.88817309+0.j]]),\n",
       " array([[ 6.88822588+0.j]]),\n",
       " array([[ 6.88827927+0.j]]),\n",
       " array([[ 6.88833328+0.j]]),\n",
       " array([[ 6.8883879+0.j]]),\n",
       " array([[ 6.88844315+0.j]]),\n",
       " array([[ 6.88849902+0.j]]),\n",
       " array([[ 6.88855553+0.j]]),\n",
       " array([[ 6.88861267+0.j]]),\n",
       " array([[ 6.88867047+0.j]]),\n",
       " array([[ 6.88872891+0.j]]),\n",
       " array([[ 6.88878802+0.j]]),\n",
       " array([[ 6.8888478+0.j]]),\n",
       " array([[ 6.88890824+0.j]]),\n",
       " array([[ 6.88896937+0.j]]),\n",
       " array([[ 6.88903118+0.j]]),\n",
       " array([[ 6.88909368+0.j]]),\n",
       " array([[ 6.88915689+0.j]]),\n",
       " array([[ 6.8892208+0.j]]),\n",
       " array([[ 6.88928542+0.j]]),\n",
       " array([[ 6.88935077+0.j]]),\n",
       " array([[ 6.88941684+0.j]]),\n",
       " array([[ 6.88948365+0.j]]),\n",
       " array([[ 6.8895512+0.j]]),\n",
       " array([[ 6.8896195+0.j]]),\n",
       " array([[ 6.88968855+0.j]]),\n",
       " array([[ 6.88975837+0.j]]),\n",
       " array([[ 6.88982896+0.j]]),\n",
       " array([[ 6.88990033+0.j]]),\n",
       " array([[ 6.88997249+0.j]]),\n",
       " array([[ 6.89004544+0.j]]),\n",
       " array([[ 6.89011919+0.j]]),\n",
       " array([[ 6.89019376+0.j]]),\n",
       " array([[ 6.89026914+0.j]]),\n",
       " array([[ 6.89034535+0.j]]),\n",
       " array([[ 6.89042239+0.j]]),\n",
       " array([[ 6.89050027+0.j]]),\n",
       " array([[ 6.89057901+0.j]]),\n",
       " array([[ 6.8906586+0.j]]),\n",
       " array([[ 6.89073907+0.j]]),\n",
       " array([[ 6.8908204+0.j]]),\n",
       " array([[ 6.89090263+0.j]]),\n",
       " array([[ 6.89098574+0.j]]),\n",
       " array([[ 6.89106976+0.j]]),\n",
       " array([[ 6.89115469+0.j]]),\n",
       " array([[ 6.89124053+0.j]]),\n",
       " array([[ 6.89132731+0.j]]),\n",
       " array([[ 6.89141502+0.j]]),\n",
       " array([[ 6.89150368+0.j]]),\n",
       " array([[ 6.8915933+0.j]]),\n",
       " array([[ 6.89168388+0.j]]),\n",
       " array([[ 6.89177544+0.j]]),\n",
       " array([[ 6.89186798+0.j]]),\n",
       " array([[ 6.89196151+0.j]]),\n",
       " array([[ 6.89205605+0.j]]),\n",
       " array([[ 6.8921516+0.j]]),\n",
       " array([[ 6.89224818+0.j]]),\n",
       " array([[ 6.89234579+0.j]]),\n",
       " array([[ 6.89244444+0.j]]),\n",
       " array([[ 6.89254414+0.j]]),\n",
       " array([[ 6.89264491+0.j]]),\n",
       " array([[ 6.89274675+0.j]]),\n",
       " array([[ 6.89284968+0.j]]),\n",
       " array([[ 6.8929537+0.j]]),\n",
       " array([[ 6.89305882+0.j]]),\n",
       " array([[ 6.89316507+0.j]]),\n",
       " array([[ 6.89327244+0.j]]),\n",
       " array([[ 6.89338094+0.j]]),\n",
       " array([[ 6.8934906+0.j]]),\n",
       " array([[ 6.89360141+0.j]]),\n",
       " array([[ 6.8937134+0.j]]),\n",
       " array([[ 6.89382657+0.j]]),\n",
       " array([[ 6.89394093+0.j]]),\n",
       " array([[ 6.8940565+0.j]]),\n",
       " array([[ 6.89417329+0.j]]),\n",
       " array([[ 6.8942913+0.j]]),\n",
       " array([[ 6.89441056+0.j]]),\n",
       " array([[ 6.89453106+0.j]]),\n",
       " array([[ 6.89465284+0.j]]),\n",
       " array([[ 6.89477588+0.j]]),\n",
       " array([[ 6.89490022+0.j]]),\n",
       " array([[ 6.89502586+0.j]]),\n",
       " array([[ 6.89515281+0.j]]),\n",
       " array([[ 6.89528109+0.j]]),\n",
       " array([[ 6.89541071+0.j]]),\n",
       " array([[ 6.89554168+0.j]]),\n",
       " array([[ 6.89567401+0.j]]),\n",
       " array([[ 6.89580772+0.j]]),\n",
       " array([[ 6.89594283+0.j]]),\n",
       " array([[ 6.89607933+0.j]]),\n",
       " array([[ 6.89621726+0.j]]),\n",
       " array([[ 6.89635661+0.j]]),\n",
       " array([[ 6.89649741+0.j]]),\n",
       " array([[ 6.89663967+0.j]]),\n",
       " array([[ 6.8967834+0.j]]),\n",
       " array([[ 6.89692861+0.j]]),\n",
       " array([[ 6.89707533+0.j]]),\n",
       " array([[ 6.89722356+0.j]]),\n",
       " array([[ 6.89737331+0.j]]),\n",
       " array([[ 6.89752461+0.j]]),\n",
       " array([[ 6.89767747+0.j]]),\n",
       " array([[ 6.8978319+0.j]]),\n",
       " array([[ 6.89798792+0.j]]),\n",
       " array([[ 6.89814554+0.j]]),\n",
       " array([[ 6.89830477+0.j]]),\n",
       " array([[ 6.89846564+0.j]]),\n",
       " array([[ 6.89862815+0.j]]),\n",
       " array([[ 6.89879233+0.j]]),\n",
       " array([[ 6.89895818+0.j]]),\n",
       " array([[ 6.89912573+0.j]]),\n",
       " array([[ 6.89929498+0.j]]),\n",
       " array([[ 6.89946596+0.j]]),\n",
       " array([[ 6.89963868+0.j]]),\n",
       " array([[ 6.89981316+0.j]]),\n",
       " array([[ 6.89998941+0.j]]),\n",
       " array([[ 6.90016745+0.j]]),\n",
       " array([[ 6.9003473+0.j]]),\n",
       " array([[ 6.90052897+0.j]]),\n",
       " array([[ 6.90071248+0.j]]),\n",
       " array([[ 6.90089785+0.j]]),\n",
       " array([[ 6.90108508+0.j]]),\n",
       " array([[ 6.90127421+0.j]]),\n",
       " array([[ 6.90146525+0.j]]),\n",
       " array([[ 6.90165821+0.j]]),\n",
       " array([[ 6.90185311+0.j]]),\n",
       " array([[ 6.90204997+0.j]]),\n",
       " array([[ 6.90224881+0.j]]),\n",
       " array([[ 6.90244964+0.j]]),\n",
       " array([[ 6.90265249+0.j]]),\n",
       " array([[ 6.90285736+0.j]]),\n",
       " array([[ 6.90306429+0.j]]),\n",
       " array([[ 6.90327328+0.j]]),\n",
       " array([[ 6.90348436+0.j]]),\n",
       " array([[ 6.90369755+0.j]]),\n",
       " array([[ 6.90391285+0.j]]),\n",
       " array([[ 6.9041303+0.j]]),\n",
       " array([[ 6.90434991+0.j]]),\n",
       " array([[ 6.90457169+0.j]]),\n",
       " array([[ 6.90479568+0.j]]),\n",
       " array([[ 6.90502188+0.j]]),\n",
       " array([[ 6.90525032+0.j]]),\n",
       " array([[ 6.90548102+0.j]]),\n",
       " array([[ 6.90571399+0.j]]),\n",
       " array([[ 6.90594926+0.j]]),\n",
       " array([[ 6.90618684+0.j]]),\n",
       " array([[ 6.90642675+0.j]]),\n",
       " array([[ 6.90666902+0.j]]),\n",
       " array([[ 6.90691367+0.j]]),\n",
       " array([[ 6.90716071+0.j]]),\n",
       " array([[ 6.90741017+0.j]]),\n",
       " array([[ 6.90766206+0.j]]),\n",
       " array([[ 6.9079164+0.j]]),\n",
       " array([[ 6.90817323+0.j]]),\n",
       " array([[ 6.90843254+0.j]]),\n",
       " array([[ 6.90869438+0.j]]),\n",
       " array([[ 6.90895875+0.j]]),\n",
       " array([[ 6.90922569+0.j]]),\n",
       " array([[ 6.9094952+0.j]]),\n",
       " array([[ 6.90976731+0.j]]),\n",
       " array([[ 6.91004205+0.j]]),\n",
       " array([[ 6.91031943+0.j]]),\n",
       " array([[ 6.91059947+0.j]]),\n",
       " array([[ 6.9108822+0.j]]),\n",
       " array([[ 6.91116763+0.j]]),\n",
       " array([[ 6.91145579+0.j]]),\n",
       " array([[ 6.9117467+0.j]]),\n",
       " array([[ 6.91204038+0.j]]),\n",
       " array([[ 6.91233685+0.j]]),\n",
       " array([[ 6.91263614+0.j]]),\n",
       " array([[ 6.91293826+0.j]]),\n",
       " array([[ 6.91324323+0.j]]),\n",
       " array([[ 6.91355109+0.j]]),\n",
       " array([[ 6.91386184+0.j]]),\n",
       " array([[ 6.91417552+0.j]]),\n",
       " array([[ 6.91449213+0.j]]),\n",
       " array([[ 6.91481171+0.j]]),\n",
       " array([[ 6.91513428+0.j]]),\n",
       " array([[ 6.91545986+0.j]]),\n",
       " array([[ 6.91578846+0.j]]),\n",
       " array([[ 6.91612011+0.j]]),\n",
       " array([[ 6.91645484+0.j]]),\n",
       " array([[ 6.91679266+0.j]]),\n",
       " array([[ 6.91713359+0.j]]),\n",
       " array([[ 6.91747766+0.j]]),\n",
       " array([[ 6.91782489+0.j]]),\n",
       " array([[ 6.91817529+0.j]]),\n",
       " array([[ 6.9185289+0.j]]),\n",
       " array([[ 6.91888572+0.j]]),\n",
       " array([[ 6.91924579+0.j]]),\n",
       " array([[ 6.91960912+0.j]]),\n",
       " array([[ 6.91997573+0.j]]),\n",
       " array([[ 6.92034565+0.j]]),\n",
       " array([[ 6.92071889+0.j]]),\n",
       " array([[ 6.92109548+0.j]]),\n",
       " array([[ 6.92147543+0.j]]),\n",
       " array([[ 6.92185877+0.j]]),\n",
       " array([[ 6.92224551+0.j]]),\n",
       " array([[ 6.92263567+0.j]]),\n",
       " array([[ 6.92302928+0.j]]),\n",
       " array([[ 6.92342635+0.j]]),\n",
       " array([[ 6.9238269+0.j]]),\n",
       " array([[ 6.92423096+0.j]]),\n",
       " array([[ 6.92463853+0.j]]),\n",
       " array([[ 6.92504964+0.j]]),\n",
       " array([[ 6.92546431+0.j]]),\n",
       " array([[ 6.92588255+0.j]]),\n",
       " array([[ 6.92630438+0.j]]),\n",
       " array([[ 6.92672982+0.j]]),\n",
       " array([[ 6.92715888+0.j]]),\n",
       " array([[ 6.92759158+0.j]]),\n",
       " array([[ 6.92802794+0.j]]),\n",
       " array([[ 6.92846798+0.j]]),\n",
       " array([[ 6.9289117+0.j]]),\n",
       " array([[ 6.92935912+0.j]]),\n",
       " array([[ 6.92981026+0.j]]),\n",
       " array([[ 6.93026513+0.j]]),\n",
       " array([[ 6.93072374+0.j]]),\n",
       " array([[ 6.93118611+0.j]]),\n",
       " array([[ 6.93165225+0.j]]),\n",
       " array([[ 6.93212217+0.j]]),\n",
       " array([[ 6.93259588+0.j]]),\n",
       " array([[ 6.9330734+0.j]]),\n",
       " array([[ 6.93355472+0.j]]),\n",
       " array([[ 6.93403987+0.j]]),\n",
       " array([[ 6.93452886+0.j]]),\n",
       " array([[ 6.93502168+0.j]]),\n",
       " array([[ 6.93551834+0.j]]),\n",
       " array([[ 6.93601886+0.j]]),\n",
       " array([[ 6.93652324+0.j]]),\n",
       " array([[ 6.93703148+0.j]]),\n",
       " array([[ 6.9375436+0.j]]),\n",
       " array([[ 6.93805958+0.j]]),\n",
       " array([[ 6.93857944+0.j]]),\n",
       " array([[ 6.93910317+0.j]]),\n",
       " array([[ 6.93963078+0.j]]),\n",
       " array([[ 6.94016227+0.j]]),\n",
       " array([[ 6.94069763+0.j]]),\n",
       " array([[ 6.94123687+0.j]]),\n",
       " array([[ 6.94177997+0.j]]),\n",
       " array([[ 6.94232695+0.j]]),\n",
       " array([[ 6.94287778+0.j]]),\n",
       " array([[ 6.94343246+0.j]]),\n",
       " array([[ 6.94399099+0.j]]),\n",
       " array([[ 6.94455336+0.j]]),\n",
       " array([[ 6.94511955+0.j]]),\n",
       " array([[ 6.94568956+0.j]]),\n",
       " array([[ 6.94626336+0.j]]),\n",
       " array([[ 6.94684096+0.j]]),\n",
       " array([[ 6.94742233+0.j]]),\n",
       " array([[ 6.94800745+0.j]]),\n",
       " array([[ 6.9485963+0.j]]),\n",
       " array([[ 6.94918887+0.j]]),\n",
       " array([[ 6.94978513+0.j]]),\n",
       " array([[ 6.95038507+0.j]]),\n",
       " array([[ 6.95098864+0.j]]),\n",
       " array([[ 6.95159584+0.j]]),\n",
       " array([[ 6.95220662+0.j]]),\n",
       " array([[ 6.95282096+0.j]]),\n",
       " array([[ 6.95343882+0.j]]),\n",
       " array([[ 6.95406017+0.j]]),\n",
       " array([[ 6.95468498+0.j]]),\n",
       " array([[ 6.95531321+0.j]]),\n",
       " array([[ 6.95594481+0.j]]),\n",
       " array([[ 6.95657974+0.j]]),\n",
       " array([[ 6.95721797+0.j]]),\n",
       " array([[ 6.95785943+0.j]]),\n",
       " array([[ 6.95850409+0.j]]),\n",
       " array([[ 6.95915189+0.j]]),\n",
       " array([[ 6.95980277+0.j]]),\n",
       " array([[ 6.96045669+0.j]]),\n",
       " array([[ 6.96111358+0.j]]),\n",
       " array([[ 6.96177337+0.j]]),\n",
       " array([[ 6.96243602+0.j]]),\n",
       " array([[ 6.96310144+0.j]]),\n",
       " array([[ 6.96376957+0.j]]),\n",
       " array([[ 6.96444035+0.j]]),\n",
       " array([[ 6.96511368+0.j]]),\n",
       " array([[ 6.9657895+0.j]]),\n",
       " array([[ 6.96646773+0.j]]),\n",
       " array([[ 6.96714827+0.j]]),\n",
       " array([[ 6.96783105+0.j]]),\n",
       " array([[ 6.96851597+0.j]]),\n",
       " array([[ 6.96920294+0.j]]),\n",
       " array([[ 6.96989186+0.j]]),\n",
       " array([[ 6.97058264+0.j]]),\n",
       " array([[ 6.97127517+0.j]]),\n",
       " array([[ 6.97196934+0.j]]),\n",
       " array([[ 6.97266504+0.j]]),\n",
       " array([[ 6.97336216+0.j]]),\n",
       " array([[ 6.97406058+0.j]]),\n",
       " array([[ 6.97476018+0.j]]),\n",
       " array([[ 6.97546084+0.j]]),\n",
       " array([[ 6.97616242+0.j]]),\n",
       " array([[ 6.9768648+0.j]]),\n",
       " array([[ 6.97756783+0.j]]),\n",
       " array([[ 6.97827138+0.j]]),\n",
       " array([[ 6.97897531+0.j]]),\n",
       " array([[ 6.97967945+0.j]]),\n",
       " array([[ 6.98038367+0.j]]),\n",
       " array([[ 6.98108779+0.j]]),\n",
       " array([[ 6.98179167+0.j]]),\n",
       " array([[ 6.98249514+0.j]]),\n",
       " array([[ 6.98319802+0.j]]),\n",
       " array([[ 6.98390014+0.j]]),\n",
       " array([[ 6.98460133+0.j]]),\n",
       " array([[ 6.98530139+0.j]]),\n",
       " array([[ 6.98600014+0.j]]),\n",
       " array([[ 6.9866974+0.j]]),\n",
       " array([[ 6.98739295+0.j]]),\n",
       " array([[ 6.9880866+0.j]]),\n",
       " array([[ 6.98877815+0.j]]),\n",
       " array([[ 6.98946737+0.j]]),\n",
       " array([[ 6.99015407+0.j]]),\n",
       " array([[ 6.990838+0.j]]),\n",
       " array([[ 6.99151896+0.j]]),\n",
       " array([[ 6.9921967+0.j]]),\n",
       " array([[ 6.99287099+0.j]]),\n",
       " array([[ 6.9935416+0.j]]),\n",
       " array([[ 6.99420828+0.j]]),\n",
       " array([[ 6.99487077+0.j]]),\n",
       " array([[ 6.99552882+0.j]]),\n",
       " array([[ 6.99618218+0.j]]),\n",
       " array([[ 6.99683058+0.j]]),\n",
       " array([[ 6.99747374+0.j]]),\n",
       " array([[ 6.9981114+0.j]]),\n",
       " array([[ 6.99874328+0.j]]),\n",
       " array([[ 6.99936909+0.j]]),\n",
       " array([[ 6.99998854+0.j]]),\n",
       " array([[ 7.00060135+0.j]]),\n",
       " array([[ 7.00120721+0.j]]),\n",
       " array([[ 7.00180582+0.j]]),\n",
       " array([[ 7.00239687+0.j]]),\n",
       " array([[ 7.00298006+0.j]]),\n",
       " array([[ 7.00355507+0.j]]),\n",
       " array([[ 7.00412157+0.j]]),\n",
       " array([[ 7.00467925+0.j]]),\n",
       " array([[ 7.00522777+0.j]]),\n",
       " array([[ 7.00576681+0.j]]),\n",
       " array([[ 7.00629603+0.j]]),\n",
       " array([[ 7.00681509+0.j]]),\n",
       " array([[ 7.00732365+0.j]]),\n",
       " array([[ 7.00782135+0.j]]),\n",
       " array([[ 7.00830786+0.j]]),\n",
       " array([[ 7.00878281+0.j]]),\n",
       " array([[ 7.00924586+0.j]]),\n",
       " array([[ 7.00969663+0.j]]),\n",
       " array([[ 7.01013478+0.j]]),\n",
       " array([[ 7.01055994+0.j]]),\n",
       " array([[ 7.01097174+0.j]]),\n",
       " array([[ 7.01136982+0.j]]),\n",
       " array([[ 7.0117538+0.j]]),\n",
       " array([[ 7.01212332+0.j]]),\n",
       " array([[ 7.012478+0.j]]),\n",
       " array([[ 7.01281748+0.j]]),\n",
       " array([[ 7.01314137+0.j]]),\n",
       " array([[ 7.0134493+0.j]]),\n",
       " array([[ 7.0137409+0.j]]),\n",
       " array([[ 7.0140158+0.j]]),\n",
       " array([[ 7.01427363+0.j]]),\n",
       " array([[ 7.014514+0.j]]),\n",
       " array([[ 7.01473655+0.j]]),\n",
       " array([[ 7.01494091+0.j]]),\n",
       " array([[ 7.01512672+0.j]]),\n",
       " array([[ 7.01529361+0.j]]),\n",
       " array([[ 7.01544121+0.j]]),\n",
       " array([[ 7.01556916+0.j]]),\n",
       " array([[ 7.01567712+0.j]]),\n",
       " array([[ 7.01576473+0.j]]),\n",
       " array([[ 7.01583164+0.j]]),\n",
       " array([[ 7.01587751+0.j]]),\n",
       " array([[ 7.015902+0.j]]),\n",
       " array([[ 7.01590479+0.j]]),\n",
       " array([[ 7.01588554+0.j]]),\n",
       " array([[ 7.01584394+0.j]]),\n",
       " array([[ 7.01577967+0.j]]),\n",
       " array([[ 7.01569244+0.j]]),\n",
       " array([[ 7.01558194+0.j]]),\n",
       " array([[ 7.0154479+0.j]]),\n",
       " array([[ 7.01529002+0.j]]),\n",
       " array([[ 7.01510805+0.j]]),\n",
       " array([[ 7.01490173+0.j]]),\n",
       " array([[ 7.01467081+0.j]]),\n",
       " array([[ 7.01441504+0.j]]),\n",
       " array([[ 7.01413422+0.j]]),\n",
       " array([[ 7.01382812+0.j]]),\n",
       " array([[ 7.01349655+0.j]]),\n",
       " array([[ 7.01313932+0.j]]),\n",
       " array([[ 7.01275626+0.j]]),\n",
       " array([[ 7.01234721+0.j]]),\n",
       " array([[ 7.01191203+0.j]]),\n",
       " array([[ 7.01145058+0.j]]),\n",
       " array([[ 7.01096277+0.j]]),\n",
       " array([[ 7.01044848+0.j]]),\n",
       " array([[ 7.00990765+0.j]]),\n",
       " array([[ 7.00934022+0.j]]),\n",
       " array([[ 7.00874613+0.j]]),\n",
       " array([[ 7.00812537+0.j]]),\n",
       " array([[ 7.00747792+0.j]]),\n",
       " array([[ 7.0068038+0.j]]),\n",
       " array([[ 7.00610305+0.j]]),\n",
       " array([[ 7.0053757+0.j]]),\n",
       " array([[ 7.00462185+0.j]]),\n",
       " array([[ 7.00384157+0.j]]),\n",
       " array([[ 7.00303499+0.j]]),\n",
       " array([[ 7.00220224+0.j]]),\n",
       " array([[ 7.00134347+0.j]]),\n",
       " array([[ 7.00045887+0.j]]),\n",
       " array([[ 6.99954864+0.j]]),\n",
       " array([[ 6.998613+0.j]]),\n",
       " array([[ 6.99765219+0.j]]),\n",
       " array([[ 6.99666649+0.j]]),\n",
       " array([[ 6.99565619+0.j]]),\n",
       " array([[ 6.9946216+0.j]]),\n",
       " array([[ 6.99356306+0.j]]),\n",
       " array([[ 6.99248094+0.j]]),\n",
       " array([[ 6.99137561+0.j]]),\n",
       " array([[ 6.99024749+0.j]]),\n",
       " array([[ 6.989097+0.j]]),\n",
       " array([[ 6.9879246+0.j]]),\n",
       " array([[ 6.98673077+0.j]]),\n",
       " array([[ 6.985516+0.j]]),\n",
       " array([[ 6.98428082+0.j]]),\n",
       " array([[ 6.98302578+0.j]]),\n",
       " array([[ 6.98175142+0.j]]),\n",
       " array([[ 6.98045836+0.j]]),\n",
       " array([[ 6.97914719+0.j]]),\n",
       " array([[ 6.97781854+0.j]]),\n",
       " array([[ 6.97647307+0.j]]),\n",
       " array([[ 6.97511145+0.j]]),\n",
       " array([[ 6.97373436+0.j]]),\n",
       " array([[ 6.97234252+0.j]]),\n",
       " array([[ 6.97093665+0.j]]),\n",
       " array([[ 6.9695175+0.j]]),\n",
       " array([[ 6.96808584+0.j]]),\n",
       " array([[ 6.96664243+0.j]]),\n",
       " array([[ 6.96518808+0.j]]),\n",
       " array([[ 6.9637236+0.j]]),\n",
       " array([[ 6.96224981+0.j]]),\n",
       " array([[ 6.96076755+0.j]]),\n",
       " array([[ 6.95927767+0.j]]),\n",
       " array([[ 6.95778102+0.j]]),\n",
       " array([[ 6.9562785+0.j]]),\n",
       " array([[ 6.95477097+0.j]]),\n",
       " array([[ 6.95325933+0.j]]),\n",
       " array([[ 6.95174447+0.j]]),\n",
       " array([[ 6.95022732+0.j]]),\n",
       " array([[ 6.94870877+0.j]]),\n",
       " array([[ 6.94718975+0.j]]),\n",
       " array([[ 6.94567118+0.j]]),\n",
       " array([[ 6.94415399+0.j]]),\n",
       " array([[ 6.94263909+0.j]]),\n",
       " array([[ 6.94112742+0.j]]),\n",
       " array([[ 6.93961991+0.j]]),\n",
       " array([[ 6.93811748+0.j]]),\n",
       " array([[ 6.93662105+0.j]]),\n",
       " array([[ 6.93513155+0.j]]),\n",
       " array([[ 6.93364989+0.j]]),\n",
       " array([[ 6.93217698+0.j]]),\n",
       " array([[ 6.93071372+0.j]]),\n",
       " array([[ 6.92926101+0.j]]),\n",
       " array([[ 6.92781974+0.j]]),\n",
       " array([[ 6.92639078+0.j]]),\n",
       " array([[ 6.924975+0.j]]),\n",
       " array([[ 6.92357324+0.j]]),\n",
       " array([[ 6.92218637+0.j]]),\n",
       " array([[ 6.92081519+0.j]]),\n",
       " array([[ 6.91946053+0.j]]),\n",
       " array([[ 6.91812318+0.j]]),\n",
       " array([[ 6.91680393+0.j]]),\n",
       " array([[ 6.91550353+0.j]]),\n",
       " array([[ 6.91422273+0.j]]),\n",
       " array([[ 6.91296227+0.j]]),\n",
       " array([[ 6.91172284+0.j]]),\n",
       " array([[ 6.91050513+0.j]]),\n",
       " array([[ 6.90930982+0.j]]),\n",
       " array([[ 6.90813754+0.j]]),\n",
       " array([[ 6.90698892+0.j]]),\n",
       " array([[ 6.90586455+0.j]]),\n",
       " array([[ 6.90476502+0.j]]),\n",
       " array([[ 6.90369087+0.j]]),\n",
       " array([[ 6.90264263+0.j]]),\n",
       " array([[ 6.90162081+0.j]]),\n",
       " array([[ 6.90062589+0.j]]),\n",
       " array([[ 6.89965831+0.j]]),\n",
       " array([[ 6.89871851+0.j]]),\n",
       " array([[ 6.89780689+0.j]]),\n",
       " array([[ 6.89692382+0.j]]),\n",
       " array([[ 6.89606966+0.j]]),\n",
       " array([[ 6.89524472+0.j]]),\n",
       " array([[ 6.8944493+0.j]]),\n",
       " array([[ 6.89368368+0.j]]),\n",
       " array([[ 6.8929481+0.j]]),\n",
       " array([[ 6.89224278+0.j]]),\n",
       " array([[ 6.89156791+0.j]]),\n",
       " array([[ 6.89092365+0.j]]),\n",
       " array([[ 6.89031016+0.j]]),\n",
       " array([[ 6.88972753+0.j]]),\n",
       " array([[ 6.88917586+0.j]]),\n",
       " array([[ 6.88865522+0.j]]),\n",
       " array([[ 6.88816565+0.j]]),\n",
       " array([[ 6.88770715+0.j]]),\n",
       " array([[ 6.88727972+0.j]]),\n",
       " array([[ 6.88688333+0.j]]),\n",
       " array([[ 6.88651792+0.j]]),\n",
       " array([[ 6.88618342+0.j]]),\n",
       " array([[ 6.88587971+0.j]]),\n",
       " array([[ 6.88560668+0.j]]),\n",
       " array([[ 6.88536418+0.j]]),\n",
       " array([[ 6.88515205+0.j]]),\n",
       " array([[ 6.88497011+0.j]]),\n",
       " array([[ 6.88481813+0.j]]),\n",
       " array([[ 6.88469591+0.j]]),\n",
       " array([[ 6.8846032+0.j]]),\n",
       " array([[ 6.88453973+0.j]]),\n",
       " array([[ 6.88450524+0.j]]),\n",
       " array([[ 6.88449942+0.j]]),\n",
       " array([[ 6.88452196+0.j]]),\n",
       " array([[ 6.88457254+0.j]]),\n",
       " array([[ 6.88465081+0.j]]),\n",
       " array([[ 6.88475643+0.j]]),\n",
       " array([[ 6.88488902+0.j]]),\n",
       " array([[ 6.88504821+0.j]]),\n",
       " array([[ 6.88523359+0.j]]),\n",
       " array([[ 6.88544477+0.j]]),\n",
       " array([[ 6.88568133+0.j]]),\n",
       " array([[ 6.88594285+0.j]]),\n",
       " array([[ 6.88622889+0.j]]),\n",
       " array([[ 6.886539+0.j]]),\n",
       " array([[ 6.88687275+0.j]]),\n",
       " array([[ 6.88722966+0.j]]),\n",
       " array([[ 6.88760927+0.j]]),\n",
       " array([[ 6.88801112+0.j]]),\n",
       " array([[ 6.88843471+0.j]]),\n",
       " array([[ 6.88887958+0.j]]),\n",
       " array([[ 6.88934523+0.j]]),\n",
       " array([[ 6.88983118+0.j]]),\n",
       " array([[ 6.89033692+0.j]]),\n",
       " array([[ 6.89086197+0.j]]),\n",
       " array([[ 6.89140582+0.j]]),\n",
       " array([[ 6.89196797+0.j]]),\n",
       " array([[ 6.89254792+0.j]]),\n",
       " array([[ 6.89314517+0.j]]),\n",
       " array([[ 6.89375922+0.j]]),\n",
       " array([[ 6.89438955+0.j]]),\n",
       " array([[ 6.89503568+0.j]]),\n",
       " array([[ 6.89569709+0.j]]),\n",
       " array([[ 6.8963733+0.j]]),\n",
       " array([[ 6.8970638+0.j]]),\n",
       " array([[ 6.89776809+0.j]]),\n",
       " array([[ 6.89848569+0.j]]),\n",
       " array([[ 6.89921611+0.j]]),\n",
       " array([[ 6.89995886+0.j]]),\n",
       " array([[ 6.90071345+0.j]]),\n",
       " array([[ 6.90147942+0.j]]),\n",
       " array([[ 6.90225628+0.j]]),\n",
       " array([[ 6.90304356+0.j]]),\n",
       " array([[ 6.90384082+0.j]]),\n",
       " array([[ 6.90464757+0.j]]),\n",
       " array([[ 6.90546337+0.j]]),\n",
       " array([[ 6.90628778+0.j]]),\n",
       " array([[ 6.90712035+0.j]]),\n",
       " array([[ 6.90796064+0.j]]),\n",
       " array([[ 6.90880822+0.j]]),\n",
       " array([[ 6.90966267+0.j]]),\n",
       " array([[ 6.91052357+0.j]]),\n",
       " array([[ 6.91139052+0.j]]),\n",
       " array([[ 6.9122631+0.j]]),\n",
       " array([[ 6.91314092+0.j]]),\n",
       " array([[ 6.91402358+0.j]]),\n",
       " array([[ 6.91491072+0.j]]),\n",
       " array([[ 6.91580194+0.j]]),\n",
       " array([[ 6.91669689+0.j]]),\n",
       " array([[ 6.91759519+0.j]]),\n",
       " array([[ 6.9184965+0.j]]),\n",
       " array([[ 6.91940047+0.j]]),\n",
       " array([[ 6.92030676+0.j]]),\n",
       " array([[ 6.92121503+0.j]]),\n",
       " array([[ 6.92212497+0.j]]),\n",
       " array([[ 6.92303625+0.j]]),\n",
       " array([[ 6.92394857+0.j]]),\n",
       " array([[ 6.92486161+0.j]]),\n",
       " array([[ 6.9257751+0.j]]),\n",
       " array([[ 6.92668874+0.j]]),\n",
       " array([[ 6.92760225+0.j]]),\n",
       " array([[ 6.92851535+0.j]]),\n",
       " array([[ 6.92942779+0.j]]),\n",
       " array([[ 6.9303393+0.j]]),\n",
       " array([[ 6.93124963+0.j]]),\n",
       " array([[ 6.93215854+0.j]]),\n",
       " array([[ 6.9330658+0.j]]),\n",
       " array([[ 6.93397116+0.j]]),\n",
       " array([[ 6.93487441+0.j]]),\n",
       " array([[ 6.93577534+0.j]]),\n",
       " array([[ 6.93667373+0.j]]),\n",
       " array([[ 6.93756938+0.j]]),\n",
       " array([[ 6.93846209+0.j]]),\n",
       " array([[ 6.93935168+0.j]]),\n",
       " array([[ 6.94023796+0.j]]),\n",
       " array([[ 6.94112076+0.j]]),\n",
       " array([[ 6.9419999+0.j]]),\n",
       " array([[ 6.94287521+0.j]]),\n",
       " array([[ 6.94374656+0.j]]),\n",
       " array([[ 6.94461377+0.j]]),\n",
       " array([[ 6.9454767+0.j]]),\n",
       " array([[ 6.94633522+0.j]]),\n",
       " array([[ 6.94718918+0.j]]),\n",
       " array([[ 6.94803846+0.j]]),\n",
       " array([[ 6.94888294+0.j]]),\n",
       " array([[ 6.94972249+0.j]]),\n",
       " array([[ 6.950557+0.j]]),\n",
       " array([[ 6.95138636+0.j]]),\n",
       " array([[ 6.95221047+0.j]]),\n",
       " array([[ 6.95302924+0.j]]),\n",
       " array([[ 6.95384256+0.j]]),\n",
       " array([[ 6.95465035+0.j]]),\n",
       " array([[ 6.95545253+0.j]]),\n",
       " array([[ 6.95624901+0.j]]),\n",
       " array([[ 6.95703971+0.j]]),\n",
       " array([[ 6.95782458+0.j]]),\n",
       " array([[ 6.95860354+0.j]]),\n",
       " array([[ 6.95937652+0.j]]),\n",
       " array([[ 6.96014347+0.j]]),\n",
       " array([[ 6.96090434+0.j]]),\n",
       " array([[ 6.96165907+0.j]]),\n",
       " array([[ 6.96240762+0.j]]),\n",
       " array([[ 6.96314993+0.j]]),\n",
       " array([[ 6.96388598+0.j]]),\n",
       " array([[ 6.96461572+0.j]]),\n",
       " array([[ 6.96533912+0.j]]),\n",
       " array([[ 6.96605615+0.j]]),\n",
       " array([[ 6.96676679+0.j]]),\n",
       " array([[ 6.967471+0.j]]),\n",
       " array([[ 6.96816876+0.j]]),\n",
       " array([[ 6.96886006+0.j]]),\n",
       " array([[ 6.96954489+0.j]]),\n",
       " array([[ 6.97022322+0.j]]),\n",
       " array([[ 6.97089505+0.j]]),\n",
       " array([[ 6.97156037+0.j]]),\n",
       " array([[ 6.97221917+0.j]]),\n",
       " array([[ 6.97287145+0.j]]),\n",
       " array([[ 6.97351721+0.j]]),\n",
       " array([[ 6.97415645+0.j]]),\n",
       " array([[ 6.97478918+0.j]]),\n",
       " array([[ 6.9754154+0.j]]),\n",
       " array([[ 6.97603511+0.j]]),\n",
       " array([[ 6.97664833+0.j]]),\n",
       " array([[ 6.97725506+0.j]]),\n",
       " array([[ 6.97785533+0.j]]),\n",
       " array([[ 6.97844914+0.j]]),\n",
       " array([[ 6.97903651+0.j]]),\n",
       " array([[ 6.97961745+0.j]]),\n",
       " array([[ 6.980192+0.j]]),\n",
       " array([[ 6.98076017+0.j]]),\n",
       " array([[ 6.98132197+0.j]]),\n",
       " array([[ 6.98187745+0.j]]),\n",
       " array([[ 6.98242661+0.j]]),\n",
       " array([[ 6.98296949+0.j]]),\n",
       " array([[ 6.98350611+0.j]]),\n",
       " array([[ 6.9840365+0.j]]),\n",
       " array([[ 6.98456069+0.j]]),\n",
       " array([[ 6.98507872+0.j]]),\n",
       " array([[ 6.9855906+0.j]]),\n",
       " array([[ 6.98609639+0.j]]),\n",
       " array([[ 6.9865961+0.j]]),\n",
       " array([[ 6.98708978+0.j]]),\n",
       " array([[ 6.98757746+0.j]]),\n",
       " array([[ 6.98805917+0.j]]),\n",
       " array([[ 6.98853495+0.j]]),\n",
       " array([[ 6.98900484+0.j]]),\n",
       " array([[ 6.98946888+0.j]]),\n",
       " array([[ 6.9899271+0.j]]),\n",
       " array([[ 6.99037955+0.j]]),\n",
       " array([[ 6.99082626+0.j]]),\n",
       " array([[ 6.99126728+0.j]]),\n",
       " array([[ 6.99170264+0.j]]),\n",
       " array([[ 6.99213238+0.j]]),\n",
       " array([[ 6.99255656+0.j]]),\n",
       " array([[ 6.9929752+0.j]]),\n",
       " array([[ 6.99338835+0.j]]),\n",
       " array([[ 6.99379606+0.j]]),\n",
       " array([[ 6.99419837+0.j]]),\n",
       " array([[ 6.99459532+0.j]]),\n",
       " array([[ 6.99498695+0.j]]),\n",
       " array([[ 6.99537331+0.j]]),\n",
       " array([[ 6.99575444+0.j]]),\n",
       " array([[ 6.99613039+0.j]]),\n",
       " array([[ 6.9965012+0.j]]),\n",
       " array([[ 6.99686691+0.j]]),\n",
       " array([[ 6.99722757+0.j]]),\n",
       " array([[ 6.99758322+0.j]]),\n",
       " array([[ 6.99793391+0.j]]),\n",
       " array([[ 6.99827968+0.j]]),\n",
       " array([[ 6.99862058+0.j]]),\n",
       " array([[ 6.99895665+0.j]]),\n",
       " array([[ 6.99928794+0.j]]),\n",
       " array([[ 6.99961449+0.j]]),\n",
       " array([[ 6.99993635+0.j]]),\n",
       " array([[ 7.00025356+0.j]]),\n",
       " array([[ 7.00056616+0.j]]),\n",
       " array([[ 7.0008742+0.j]]),\n",
       " array([[ 7.00117773+0.j]]),\n",
       " array([[ 7.00147678+0.j]]),\n",
       " array([[ 7.00177141+0.j]]),\n",
       " array([[ 7.00206165+0.j]]),\n",
       " array([[ 7.00234756+0.j]]),\n",
       " array([[ 7.00262917+0.j]]),\n",
       " array([[ 7.00290653+0.j]]),\n",
       " array([[ 7.00317968+0.j]]),\n",
       " array([[ 7.00344867+0.j]]),\n",
       " array([[ 7.00371353+0.j]]),\n",
       " array([[ 7.00397432+0.j]]),\n",
       " array([[ 7.00423107+0.j]]),\n",
       " array([[ 7.00448383+0.j]]),\n",
       " array([[ 7.00473264+0.j]]),\n",
       " array([[ 7.00497754+0.j]]),\n",
       " array([[ 7.00521857+0.j]]),\n",
       " array([[ 7.00545578+0.j]]),\n",
       " array([[ 7.0056892+0.j]]),\n",
       " array([[ 7.00591888+0.j]]),\n",
       " array([[ 7.00614486+0.j]]),\n",
       " array([[ 7.00636718+0.j]]),\n",
       " array([[ 7.00658588+0.j]]),\n",
       " array([[ 7.006801+0.j]]),\n",
       " array([[ 7.00701258+0.j]]),\n",
       " array([[ 7.00722066+0.j]]),\n",
       " array([[ 7.00742528+0.j]]),\n",
       " array([[ 7.00762648+0.j]]),\n",
       " array([[ 7.00782429+0.j]]),\n",
       " array([[ 7.00801876+0.j]]),\n",
       " array([[ 7.00820992+0.j]]),\n",
       " array([[ 7.00839782+0.j]]),\n",
       " array([[ 7.00858248+0.j]]),\n",
       " array([[ 7.00876395+0.j]]),\n",
       " array([[ 7.00894227+0.j]]),\n",
       " array([[ 7.00911746+0.j]]),\n",
       " array([[ 7.00928957+0.j]]),\n",
       " array([[ 7.00945864+0.j]]),\n",
       " array([[ 7.00962469+0.j]]),\n",
       " array([[ 7.00978777+0.j]]),\n",
       " array([[ 7.00994791+0.j]]),\n",
       " array([[ 7.01010515+0.j]]),\n",
       " array([[ 7.01025951+0.j]]),\n",
       " array([[ 7.01041104+0.j]]),\n",
       " array([[ 7.01055977+0.j]]),\n",
       " array([[ 7.01070572+0.j]]),\n",
       " array([[ 7.01084895+0.j]]),\n",
       " array([[ 7.01098947+0.j]]),\n",
       " array([[ 7.01112732+0.j]]),\n",
       " array([[ 7.01126254+0.j]]),\n",
       " array([[ 7.01139515+0.j]]),\n",
       " array([[ 7.01152519+0.j]]),\n",
       " array([[ 7.01165269+0.j]]),\n",
       " array([[ 7.01177768+0.j]]),\n",
       " array([[ 7.01190019+0.j]]),\n",
       " array([[ 7.01202026+0.j]]),\n",
       " array([[ 7.0121379+0.j]]),\n",
       " array([[ 7.01225316+0.j]]),\n",
       " array([[ 7.01236607+0.j]]),\n",
       " array([[ 7.01247664+0.j]]),\n",
       " array([[ 7.01258492+0.j]]),\n",
       " array([[ 7.01269093+0.j]]),\n",
       " array([[ 7.01279469+0.j]]),\n",
       " array([[ 7.01289625+0.j]]),\n",
       " array([[ 7.01299562+0.j]]),\n",
       " array([[ 7.01309283+0.j]]),\n",
       " array([[ 7.01318791+0.j]]),\n",
       " array([[ 7.01328089+0.j]]),\n",
       " array([[ 7.01337179+0.j]]),\n",
       " array([[ 7.01346065+0.j]]),\n",
       " array([[ 7.01354748+0.j]]),\n",
       " array([[ 7.01363232+0.j]]),\n",
       " array([[ 7.01371519+0.j]]),\n",
       " array([[ 7.01379611+0.j]]),\n",
       " array([[ 7.01387511+0.j]]),\n",
       " array([[ 7.01395221+0.j]]),\n",
       " array([[ 7.01402745+0.j]]),\n",
       " array([[ 7.01410084+0.j]]),\n",
       " array([[ 7.01417241+0.j]]),\n",
       " array([[ 7.01424218+0.j]]),\n",
       " array([[ 7.01431017+0.j]]),\n",
       " array([[ 7.01437641+0.j]]),\n",
       " array([[ 7.01444093+0.j]]),\n",
       " array([[ 7.01450374+0.j]]),\n",
       " array([[ 7.01456487+0.j]]),\n",
       " array([[ 7.01462433+0.j]]),\n",
       " array([[ 7.01468216+0.j]]),\n",
       " array([[ 7.01473838+0.j]]),\n",
       " array([[ 7.01479299+0.j]]),\n",
       " array([[ 7.01484604+0.j]]),\n",
       " array([[ 7.01489753+0.j]]),\n",
       " array([[ 7.01494749+0.j]]),\n",
       " array([[ 7.01499594+0.j]]),\n",
       " array([[ 7.01504289+0.j]]),\n",
       " array([[ 7.01508838+0.j]]),\n",
       " array([[ 7.01513242+0.j]]),\n",
       " array([[ 7.01517502+0.j]]),\n",
       " array([[ 7.01521622+0.j]]),\n",
       " array([[ 7.01525602+0.j]]),\n",
       " array([[ 7.01529444+0.j]]),\n",
       " array([[ 7.01533152+0.j]]),\n",
       " array([[ 7.01536725+0.j]]),\n",
       " array([[ 7.01540167+0.j]]),\n",
       " array([[ 7.01543479+0.j]]),\n",
       " array([[ 7.01546663+0.j]]),\n",
       " array([[ 7.0154972+0.j]]),\n",
       " array([[ 7.01552653+0.j]]),\n",
       " array([[ 7.01555462+0.j]]),\n",
       " array([[ 7.01558151+0.j]]),\n",
       " array([[ 7.0156072+0.j]]),\n",
       " array([[ 7.01563171+0.j]]),\n",
       " array([[ 7.01565505+0.j]]),\n",
       " array([[ 7.01567725+0.j]]),\n",
       " array([[ 7.01569832+0.j]]),\n",
       " array([[ 7.01571828+0.j]]),\n",
       " array([[ 7.01573714+0.j]]),\n",
       " array([[ 7.01575492+0.j]]),\n",
       " array([[ 7.01577162+0.j]]),\n",
       " array([[ 7.01578728+0.j]]),\n",
       " array([[ 7.01580189+0.j]]),\n",
       " array([[ 7.01581549+0.j]]),\n",
       " array([[ 7.01582807+0.j]]),\n",
       " array([[ 7.01583967+0.j]]),\n",
       " array([[ 7.01585028+0.j]]),\n",
       " array([[ 7.01585993+0.j]]),\n",
       " array([[ 7.01586862+0.j]]),\n",
       " array([[ 7.01587638+0.j]]),\n",
       " array([[ 7.01588321+0.j]]),\n",
       " array([[ 7.01588913+0.j]]),\n",
       " array([[ 7.01589415+0.j]]),\n",
       " array([[ 7.01589829+0.j]]),\n",
       " array([[ 7.01590156+0.j]]),\n",
       " array([[ 7.01590396+0.j]]),\n",
       " array([[ 7.01590552+0.j]]),\n",
       " array([[ 7.01590625+0.j]]),\n",
       " array([[ 7.01590615+0.j]]),\n",
       " array([[ 7.01590524+0.j]]),\n",
       " array([[ 7.01590354+0.j]]),\n",
       " array([[ 7.01590105+0.j]]),\n",
       " array([[ 7.01589778+0.j]]),\n",
       " array([[ 7.01589376+0.j]]),\n",
       " array([[ 7.01588898+0.j]]),\n",
       " array([[ 7.01588346+0.j]]),\n",
       " array([[ 7.01587721+0.j]]),\n",
       " array([[ 7.01587024+0.j]]),\n",
       " array([[ 7.01586256+0.j]]),\n",
       " array([[ 7.01585419+0.j]]),\n",
       " array([[ 7.01584513+0.j]]),\n",
       " array([[ 7.0158354+0.j]]),\n",
       " array([[ 7.015825+0.j]]),\n",
       " array([[ 7.01581394+0.j]]),\n",
       " array([[ 7.01580224+0.j]]),\n",
       " array([[ 7.0157899+0.j]]),\n",
       " array([[ 7.01577694+0.j]]),\n",
       " array([[ 7.01576336+0.j]]),\n",
       " array([[ 7.01574918+0.j]]),\n",
       " array([[ 7.0157344+0.j]]),\n",
       " array([[ 7.01571903+0.j]]),\n",
       " array([[ 7.01570308+0.j]]),\n",
       " array([[ 7.01568656+0.j]]),\n",
       " array([[ 7.01566948+0.j]]),\n",
       " array([[ 7.01565185+0.j]]),\n",
       " array([[ 7.01563368+0.j]]),\n",
       " array([[ 7.01561497+0.j]]),\n",
       " array([[ 7.01559574+0.j]]),\n",
       " array([[ 7.01557599+0.j]]),\n",
       " array([[ 7.01555573+0.j]]),\n",
       " array([[ 7.01553496+0.j]]),\n",
       " array([[ 7.01551371+0.j]]),\n",
       " array([[ 7.01549197+0.j]]),\n",
       " array([[ 7.01546975+0.j]]),\n",
       " array([[ 7.01544707+0.j]]),\n",
       " array([[ 7.01542392+0.j]]),\n",
       " array([[ 7.01540031+0.j]]),\n",
       " array([[ 7.01537626+0.j]]),\n",
       " array([[ 7.01535178+0.j]]),\n",
       " array([[ 7.01532685+0.j]]),\n",
       " array([[ 7.01530151+0.j]]),\n",
       " array([[ 7.01527574+0.j]]),\n",
       " array([[ 7.01524957+0.j]]),\n",
       " array([[ 7.01522299+0.j]]),\n",
       " array([[ 7.01519602+0.j]]),\n",
       " array([[ 7.01516865+0.j]]),\n",
       " array([[ 7.0151409+0.j]]),\n",
       " array([[ 7.01511278+0.j]]),\n",
       " array([[ 7.01508428+0.j]]),\n",
       " array([[ 7.01505542+0.j]]),\n",
       " array([[ 7.0150262+0.j]]),\n",
       " array([[ 7.01499663+0.j]]),\n",
       " array([[ 7.01496671+0.j]]),\n",
       " array([[ 7.01493645+0.j]]),\n",
       " array([[ 7.01490586+0.j]]),\n",
       " array([[ 7.01487495+0.j]]),\n",
       " array([[ 7.01484371+0.j]]),\n",
       " array([[ 7.01481215+0.j]]),\n",
       " array([[ 7.01478029+0.j]]),\n",
       " array([[ 7.01474812+0.j]]),\n",
       " array([[ 7.01471565+0.j]]),\n",
       " array([[ 7.01468289+0.j]]),\n",
       " array([[ 7.01464984+0.j]]),\n",
       " array([[ 7.01461651+0.j]]),\n",
       " array([[ 7.01458289+0.j]]),\n",
       " array([[ 7.01454901+0.j]]),\n",
       " array([[ 7.01451486+0.j]]),\n",
       " array([[ 7.01448045+0.j]]),\n",
       " array([[ 7.01444578+0.j]]),\n",
       " array([[ 7.01441085+0.j]]),\n",
       " array([[ 7.01437568+0.j]]),\n",
       " array([[ 7.01434027+0.j]]),\n",
       " array([[ 7.01430462+0.j]]),\n",
       " array([[ 7.01426873+0.j]]),\n",
       " array([[ 7.01423262+0.j]]),\n",
       " array([[ 7.01419628+0.j]]),\n",
       " array([[ 7.01415973+0.j]]),\n",
       " array([[ 7.01412295+0.j]]),\n",
       " array([[ 7.01408597+0.j]]),\n",
       " array([[ 7.01404878+0.j]]),\n",
       " array([[ 7.01401139+0.j]]),\n",
       " array([[ 7.0139738+0.j]]),\n",
       " array([[ 7.01393601+0.j]]),\n",
       " array([[ 7.01389804+0.j]]),\n",
       " array([[ 7.01385988+0.j]]),\n",
       " array([[ 7.01382154+0.j]]),\n",
       " array([[ 7.01378302+0.j]]),\n",
       " array([[ 7.01374432+0.j]]),\n",
       " array([[ 7.01370546+0.j]]),\n",
       " array([[ 7.01366643+0.j]]),\n",
       " array([[ 7.01362723+0.j]]),\n",
       " array([[ 7.01358788+0.j]]),\n",
       " array([[ 7.01354837+0.j]]),\n",
       " array([[ 7.01350871+0.j]]),\n",
       " array([[ 7.0134689+0.j]]),\n",
       " array([[ 7.01342895+0.j]]),\n",
       " array([[ 7.01338885+0.j]]),\n",
       " array([[ 7.01334862+0.j]]),\n",
       " array([[ 7.01330825+0.j]]),\n",
       " array([[ 7.01326775+0.j]]),\n",
       " array([[ 7.01322713+0.j]]),\n",
       " array([[ 7.01318637+0.j]]),\n",
       " array([[ 7.0131455+0.j]]),\n",
       " array([[ 7.01310451+0.j]]),\n",
       " array([[ 7.0130634+0.j]]),\n",
       " array([[ 7.01302217+0.j]]),\n",
       " array([[ 7.01298084+0.j]]),\n",
       " array([[ 7.01293941+0.j]]),\n",
       " array([[ 7.01289786+0.j]]),\n",
       " array([[ 7.01285622+0.j]]),\n",
       " array([[ 7.01281448+0.j]]),\n",
       " array([[ 7.01277264+0.j]]),\n",
       " ...]"
      ]
     },
     "execution_count": 27,
     "metadata": {},
     "output_type": "execute_result"
    }
   ],
   "source": [
    "costs"
   ]
  },
  {
   "cell_type": "code",
   "execution_count": 28,
   "metadata": {},
   "outputs": [
    {
     "data": {
      "text/plain": [
       "10000"
      ]
     },
     "execution_count": 28,
     "metadata": {},
     "output_type": "execute_result"
    }
   ],
   "source": [
    "len(costs)"
   ]
  },
  {
   "cell_type": "code",
   "execution_count": 29,
   "metadata": {},
   "outputs": [],
   "source": [
    "x = np.arange(1,len(costs),1)"
   ]
  },
  {
   "cell_type": "code",
   "execution_count": 30,
   "metadata": {},
   "outputs": [
    {
     "data": {
      "text/plain": [
       "(9999,)"
      ]
     },
     "execution_count": 30,
     "metadata": {},
     "output_type": "execute_result"
    }
   ],
   "source": [
    "x.shape"
   ]
  },
  {
   "cell_type": "code",
   "execution_count": 31,
   "metadata": {},
   "outputs": [
    {
     "name": "stderr",
     "output_type": "stream",
     "text": [
      "/anaconda3/lib/python3.6/site-packages/numpy/core/numeric.py:583: ComplexWarning: Casting complex values to real discards the imaginary part\n",
      "  return array(a, dtype, copy=False, order=order, subok=True)\n"
     ]
    },
    {
     "data": {
      "text/plain": [
       "Text(0.5,0,'Number of Iterations')"
      ]
     },
     "execution_count": 31,
     "metadata": {},
     "output_type": "execute_result"
    },
    {
     "data": {
      "image/png": "[encoded data removed]",
      "text/plain": [
       "<matplotlib.figure.Figure at 0x7effb879a400>"
      ]
     },
     "metadata": {},
     "output_type": "display_data"
    }
   ],
   "source": [
    "x = np.arange(0,len(costs),1)\n",
    "plt.scatter(x,costs, c = 'r')\n",
    "plt.title('Cost Function Evolution')\n",
    "plt.ylabel('Cost Function')\n",
    "plt.xlabel('Number of Iterations')"
   ]
  },
  {
   "cell_type": "code",
   "execution_count": 32,
   "metadata": {},
   "outputs": [],
   "source": [
    "psi_up = np.dot(U_p, psi_in)"
   ]
  },
  {
   "cell_type": "code",
   "execution_count": 33,
   "metadata": {},
   "outputs": [],
   "source": [
    "psi_in = states[35]\n",
    "psi_up = np.dot(U_p, psi_in)"
   ]
  },
  {
   "cell_type": "code",
   "execution_count": 34,
   "metadata": {},
   "outputs": [
    {
     "data": {
      "text/latex": [
       "Quantum object: dims = [[8], [1]], shape = (8, 1), type = ket\\begin{equation*}\\left(\\begin{array}{*{11}c}-4.778\\times10^{-17}\\\\8.809\\times10^{-17}\\\\-2.499\\times10^{-17}\\\\(-0.039+0.015j)\\\\-2.871\\times10^{-17}\\\\-6.780\\times10^{-18}\\\\4.817\\times10^{-17}\\\\1.400\\times10^{-16}\\\\\\end{array}\\right)\\end{equation*}"
      ],
      "text/plain": [
       "Quantum object: dims = [[8], [1]], shape = (8, 1), type = ket\n",
       "Qobj data =\n",
       "[[ -4.77792529e-17 -1.05277101e-19j]\n",
       " [  8.80942537e-17 +1.83797119e-16j]\n",
       " [ -2.49930333e-17 +4.90932310e-17j]\n",
       " [ -3.93979145e-02 +1.54782526e-02j]\n",
       " [ -2.87119123e-17 +2.87189513e-17j]\n",
       " [ -6.78035034e-18 -5.11226063e-17j]\n",
       " [  4.81743691e-17 +7.59067339e-17j]\n",
       " [  1.39996361e-16 -1.53833527e-16j]]"
      ]
     },
     "execution_count": 34,
     "metadata": {},
     "output_type": "execute_result"
    }
   ],
   "source": [
    "reference"
   ]
  },
  {
   "cell_type": "markdown",
   "metadata": {},
   "source": [
    "## Swap reference states with trash states"
   ]
  },
  {
   "cell_type": "code",
   "execution_count": 35,
   "metadata": {},
   "outputs": [],
   "source": [
    "psi_swap = swap_trashref(psi_up, reference, opt_p)"
   ]
  },
  {
   "cell_type": "markdown",
   "metadata": {},
   "source": [
    "## Construct the output\n",
    "The output should ideally resemble the input."
   ]
  },
  {
   "cell_type": "code",
   "execution_count": 36,
   "metadata": {},
   "outputs": [],
   "source": [
    "psi_out = np.dot(U_p.dag(), psi_swap)"
   ]
  },
  {
   "cell_type": "markdown",
   "metadata": {},
   "source": [
    "## Compare input with output"
   ]
  },
  {
   "cell_type": "code",
   "execution_count": 37,
   "metadata": {},
   "outputs": [
    {
     "data": {
      "text/plain": [
       "1.0"
      ]
     },
     "execution_count": 37,
     "metadata": {},
     "output_type": "execute_result"
    }
   ],
   "source": [
    "psi_in.norm() "
   ]
  },
  {
   "cell_type": "code",
   "execution_count": 38,
   "metadata": {},
   "outputs": [
    {
     "data": {
      "text/latex": [
       "Quantum object: dims = [[16], [1]], shape = (16, 1), type = ket\\begin{equation*}\\left(\\begin{array}{*{11}c}0.0\\\\0.0\\\\0.0\\\\(0.684-0.151j)\\\\0.0\\\\\\vdots\\\\0.0\\\\(-0.071-0.710j)\\\\0.0\\\\0.0\\\\0.0\\\\\\end{array}\\right)\\end{equation*}"
      ],
      "text/plain": [
       "Quantum object: dims = [[16], [1]], shape = (16, 1), type = ket\n",
       "Qobj data =\n",
       "[[  0.00000000e+00 +0.00000000e+00j]\n",
       " [  0.00000000e+00 +0.00000000e+00j]\n",
       " [  0.00000000e+00 +0.00000000e+00j]\n",
       " [  6.84363116e-01 -1.51274437e-01j]\n",
       " [  0.00000000e+00 +0.00000000e+00j]\n",
       " [ -3.44507805e-12 +0.00000000e+00j]\n",
       " [ -1.52519840e-12 +0.00000000e+00j]\n",
       " [  0.00000000e+00 +0.00000000e+00j]\n",
       " [  0.00000000e+00 +0.00000000e+00j]\n",
       " [  1.41048715e-12 +0.00000000e+00j]\n",
       " [  1.60517294e-12 +2.64820902e-12j]\n",
       " [  0.00000000e+00 +0.00000000e+00j]\n",
       " [ -7.07919487e-02 -7.09754655e-01j]\n",
       " [  0.00000000e+00 +0.00000000e+00j]\n",
       " [  0.00000000e+00 +0.00000000e+00j]\n",
       " [  0.00000000e+00 +0.00000000e+00j]]"
      ]
     },
     "execution_count": 38,
     "metadata": {},
     "output_type": "execute_result"
    }
   ],
   "source": [
    "psi_up"
   ]
  },
  {
   "cell_type": "code",
   "execution_count": 39,
   "metadata": {},
   "outputs": [
    {
     "data": {
      "text/latex": [
       "Quantum object: dims = [[16], [1]], shape = (16, 1), type = ket\\begin{equation*}\\left(\\begin{array}{*{11}c}-4.778\\times10^{-17}\\\\8.809\\times10^{-17}\\\\-2.499\\times10^{-17}\\\\(-0.039+0.015j)\\\\-2.871\\times10^{-17}\\\\\\vdots\\\\0.0\\\\(0.084-0.708j)\\\\0.0\\\\0.0\\\\0.0\\\\\\end{array}\\right)\\end{equation*}"
      ],
      "text/plain": [
       "Quantum object: dims = [[16], [1]], shape = (16, 1), type = ket\n",
       "Qobj data =\n",
       "[[ -4.77792529e-17 -1.05277101e-19j]\n",
       " [  8.80942537e-17 +1.83797119e-16j]\n",
       " [ -2.49930333e-17 +4.90932310e-17j]\n",
       " [ -3.93979145e-02 +1.54782526e-02j]\n",
       " [ -2.87119123e-17 +2.87189513e-17j]\n",
       " [ -6.78035034e-18 -5.11226063e-17j]\n",
       " [  4.81743691e-17 +7.59067339e-17j]\n",
       " [  1.39996361e-16 -1.53833527e-16j]\n",
       " [  0.00000000e+00 +0.00000000e+00j]\n",
       " [  0.00000000e+00 +1.34134126e-12j]\n",
       " [  0.00000000e+00 -3.09665262e-12j]\n",
       " [  0.00000000e+00 +0.00000000e+00j]\n",
       " [  8.36755673e-02 -7.08351303e-01j]\n",
       " [  0.00000000e+00 +0.00000000e+00j]\n",
       " [  0.00000000e+00 +0.00000000e+00j]\n",
       " [  0.00000000e+00 +0.00000000e+00j]]"
      ]
     },
     "execution_count": 39,
     "metadata": {},
     "output_type": "execute_result"
    }
   ],
   "source": [
    "psi_swap"
   ]
  },
  {
   "cell_type": "code",
   "execution_count": 40,
   "metadata": {},
   "outputs": [],
   "source": [
    "psi_out = psi_out / psi_out.norm() "
   ]
  },
  {
   "cell_type": "code",
   "execution_count": 41,
   "metadata": {},
   "outputs": [
    {
     "data": {
      "text/plain": [
       "1.0000000000000002"
      ]
     },
     "execution_count": 41,
     "metadata": {},
     "output_type": "execute_result"
    }
   ],
   "source": [
    "psi_out.norm() "
   ]
  },
  {
   "cell_type": "code",
   "execution_count": 42,
   "metadata": {},
   "outputs": [
    {
     "data": {
      "text/latex": [
       "Quantum object: dims = [[1], [1]], shape = (1, 1), type = bra\\begin{equation*}\\left(\\begin{array}{*{11}c}0.454\\\\\\end{array}\\right)\\end{equation*}"
      ],
      "text/plain": [
       "Quantum object: dims = [[1], [1]], shape = (1, 1), type = bra\n",
       "Qobj data =\n",
       "[[ 0.45365692]]"
      ]
     },
     "execution_count": 42,
     "metadata": {},
     "output_type": "execute_result"
    }
   ],
   "source": [
    "ampl = psi_in.trans()*psi_out\n",
    "prob = ampl.dag()*ampl\n",
    "prob"
   ]
  },
  {
   "cell_type": "code",
   "execution_count": 43,
   "metadata": {},
   "outputs": [
    {
     "data": {
      "text/plain": [
       "array([[ -3.70278342e-17 -3.56216954e-17j],\n",
       "       [ -2.37314403e-17 +4.74202657e-17j],\n",
       "       [  2.46263574e-17 +3.31792620e-17j],\n",
       "       [  2.18082873e-01 +6.66090603e-01j],\n",
       "       [ -1.76068173e-16 +2.35516781e-16j],\n",
       "       [  9.46891376e-13 -3.34513375e-12j],\n",
       "       [  1.06615707e-12 -1.13645328e-12j],\n",
       "       [ -3.09757890e-16 -4.99287486e-16j],\n",
       "       [  5.27279250e-16 +9.22401268e-17j],\n",
       "       [  1.06614024e-12 -1.13648547e-12j],\n",
       "       [ -2.73689069e-12 -1.44879969e-12j],\n",
       "       [ -8.31816527e-16 -5.99043983e-16j],\n",
       "       [ -2.21939157e-01 -6.77868852e-01j],\n",
       "       [ -2.30770728e-16 +2.10062480e-16j],\n",
       "       [ -2.20477838e-16 +3.05258168e-17j],\n",
       "       [  1.39038131e-16 -2.13765835e-20j]])"
      ]
     },
     "execution_count": 43,
     "metadata": {},
     "output_type": "execute_result"
    }
   ],
   "source": [
    "psi_ina = psi_in.data.toarray()\n",
    "psi_ina"
   ]
  },
  {
   "cell_type": "code",
   "execution_count": 44,
   "metadata": {},
   "outputs": [
    {
     "data": {
      "text/plain": [
       "array([[  0.00000000e+00 +0.00000000e+00j],\n",
       "       [  0.00000000e+00 +0.00000000e+00j],\n",
       "       [  0.00000000e+00 +0.00000000e+00j],\n",
       "       [  6.84363116e-01 -1.51274437e-01j],\n",
       "       [  0.00000000e+00 +0.00000000e+00j],\n",
       "       [ -3.44507805e-12 +0.00000000e+00j],\n",
       "       [ -1.52519840e-12 +0.00000000e+00j],\n",
       "       [  0.00000000e+00 +0.00000000e+00j],\n",
       "       [  0.00000000e+00 +0.00000000e+00j],\n",
       "       [  1.41048715e-12 +0.00000000e+00j],\n",
       "       [  1.60517294e-12 +2.64820902e-12j],\n",
       "       [  0.00000000e+00 +0.00000000e+00j],\n",
       "       [ -7.07919487e-02 -7.09754655e-01j],\n",
       "       [  0.00000000e+00 +0.00000000e+00j],\n",
       "       [  0.00000000e+00 +0.00000000e+00j],\n",
       "       [  0.00000000e+00 +0.00000000e+00j]])"
      ]
     },
     "execution_count": 44,
     "metadata": {},
     "output_type": "execute_result"
    }
   ],
   "source": [
    "psi_upa = psi_up.data.toarray()\n",
    "psi_upa"
   ]
  },
  {
   "cell_type": "code",
   "execution_count": 45,
   "metadata": {},
   "outputs": [
    {
     "data": {
      "text/plain": [
       "array([[ -4.77792529e-17 -1.05277101e-19j],\n",
       "       [  8.80942537e-17 +1.83797119e-16j],\n",
       "       [ -2.49930333e-17 +4.90932310e-17j],\n",
       "       [ -3.93979145e-02 +1.54782526e-02j],\n",
       "       [ -2.87119123e-17 +2.87189513e-17j],\n",
       "       [ -6.78035034e-18 -5.11226063e-17j],\n",
       "       [  4.81743691e-17 +7.59067339e-17j],\n",
       "       [  1.39996361e-16 -1.53833527e-16j],\n",
       "       [  0.00000000e+00 +0.00000000e+00j],\n",
       "       [  0.00000000e+00 +1.34134126e-12j],\n",
       "       [  0.00000000e+00 -3.09665262e-12j],\n",
       "       [  0.00000000e+00 +0.00000000e+00j],\n",
       "       [  8.36755673e-02 -7.08351303e-01j],\n",
       "       [  0.00000000e+00 +0.00000000e+00j],\n",
       "       [  0.00000000e+00 +0.00000000e+00j],\n",
       "       [  0.00000000e+00 +0.00000000e+00j]])"
      ]
     },
     "execution_count": 45,
     "metadata": {},
     "output_type": "execute_result"
    }
   ],
   "source": [
    "psi_swapa = psi_swap.data.toarray()\n",
    "psi_swapa"
   ]
  },
  {
   "cell_type": "code",
   "execution_count": 46,
   "metadata": {},
   "outputs": [
    {
     "data": {
      "text/plain": [
       "array([[  0.00000000e+00 +0.00000000e+00j],\n",
       "       [  0.00000000e+00 +0.00000000e+00j],\n",
       "       [  0.00000000e+00 +0.00000000e+00j],\n",
       "       [ -2.69985028e-02 -5.27308307e-02j],\n",
       "       [  0.00000000e+00 +0.00000000e+00j],\n",
       "       [  0.00000000e+00 +0.00000000e+00j],\n",
       "       [  0.00000000e+00 +0.00000000e+00j],\n",
       "       [  0.00000000e+00 +0.00000000e+00j],\n",
       "       [  0.00000000e+00 +0.00000000e+00j],\n",
       "       [  1.78520541e-12 +0.00000000e+00j],\n",
       "       [  2.22452796e-12 +3.71934185e-12j],\n",
       "       [  0.00000000e+00 +0.00000000e+00j],\n",
       "       [ -9.90746679e-02 -9.93315031e-01j],\n",
       "       [  0.00000000e+00 +0.00000000e+00j],\n",
       "       [  0.00000000e+00 +0.00000000e+00j],\n",
       "       [  0.00000000e+00 +0.00000000e+00j]])"
      ]
     },
     "execution_count": 46,
     "metadata": {},
     "output_type": "execute_result"
    }
   ],
   "source": [
    "psi_outa = psi_out.data.toarray()\n",
    "psi_outa"
   ]
  },
  {
   "cell_type": "code",
   "execution_count": 47,
   "metadata": {},
   "outputs": [],
   "source": [
    "psi_in1 = psi_ina[8:len(psi_ina),:] \n",
    "psi_in1 = Qobj(psi_in1)"
   ]
  },
  {
   "cell_type": "code",
   "execution_count": 48,
   "metadata": {},
   "outputs": [],
   "source": [
    "psi_out1 = psi_outa[8:len(psi_outa),:] \n",
    "psi_out1 = Qobj(psi_out1)"
   ]
  },
  {
   "cell_type": "code",
   "execution_count": 49,
   "metadata": {},
   "outputs": [
    {
     "data": {
      "text/latex": [
       "Quantum object: dims = [[1], [1]], shape = (1, 1), type = bra\\begin{equation*}\\left(\\begin{array}{*{11}c}0.507\\\\\\end{array}\\right)\\end{equation*}"
      ],
      "text/plain": [
       "Quantum object: dims = [[1], [1]], shape = (1, 1), type = bra\n",
       "Qobj data =\n",
       "[[ 0.50697769]]"
      ]
     },
     "execution_count": 49,
     "metadata": {},
     "output_type": "execute_result"
    }
   ],
   "source": [
    "ampl = psi_in1.trans()*psi_out1\n",
    "prob = ampl.dag()*ampl\n",
    "prob"
   ]
  },
  {
   "cell_type": "code",
   "execution_count": 50,
   "metadata": {},
   "outputs": [
    {
     "data": {
      "text/latex": [
       "Quantum object: dims = [[8], [1]], shape = (8, 1), type = ket\\begin{equation*}\\left(\\begin{array}{*{11}c}5.273\\times10^{-16}\\\\(1.066\\times10^{-12}-1.136\\times10^{-12}j)\\\\(-2.737\\times10^{-12}-1.449\\times10^{-12}j)\\\\-8.318\\times10^{-16}\\\\(-0.222-0.678j)\\\\-2.308\\times10^{-16}\\\\-2.205\\times10^{-16}\\\\1.390\\times10^{-16}\\\\\\end{array}\\right)\\end{equation*}"
      ],
      "text/plain": [
       "Quantum object: dims = [[8], [1]], shape = (8, 1), type = ket\n",
       "Qobj data =\n",
       "[[  5.27279250e-16 +9.22401268e-17j]\n",
       " [  1.06614024e-12 -1.13648547e-12j]\n",
       " [ -2.73689069e-12 -1.44879969e-12j]\n",
       " [ -8.31816527e-16 -5.99043983e-16j]\n",
       " [ -2.21939157e-01 -6.77868852e-01j]\n",
       " [ -2.30770728e-16 +2.10062480e-16j]\n",
       " [ -2.20477838e-16 +3.05258168e-17j]\n",
       " [  1.39038131e-16 -2.13765835e-20j]]"
      ]
     },
     "execution_count": 50,
     "metadata": {},
     "output_type": "execute_result"
    }
   ],
   "source": [
    "psi_in1"
   ]
  },
  {
   "cell_type": "code",
   "execution_count": 51,
   "metadata": {},
   "outputs": [
    {
     "data": {
      "text/latex": [
       "Quantum object: dims = [[8], [1]], shape = (8, 1), type = ket\\begin{equation*}\\left(\\begin{array}{*{11}c}0.0\\\\1.785\\times10^{-12}\\\\(2.225\\times10^{-12}+3.719\\times10^{-12}j)\\\\0.0\\\\(-0.099-0.993j)\\\\0.0\\\\0.0\\\\0.0\\\\\\end{array}\\right)\\end{equation*}"
      ],
      "text/plain": [
       "Quantum object: dims = [[8], [1]], shape = (8, 1), type = ket\n",
       "Qobj data =\n",
       "[[  0.00000000e+00 +0.00000000e+00j]\n",
       " [  1.78520541e-12 +0.00000000e+00j]\n",
       " [  2.22452796e-12 +3.71934185e-12j]\n",
       " [  0.00000000e+00 +0.00000000e+00j]\n",
       " [ -9.90746679e-02 -9.93315031e-01j]\n",
       " [  0.00000000e+00 +0.00000000e+00j]\n",
       " [  0.00000000e+00 +0.00000000e+00j]\n",
       " [  0.00000000e+00 +0.00000000e+00j]]"
      ]
     },
     "execution_count": 51,
     "metadata": {},
     "output_type": "execute_result"
    }
   ],
   "source": [
    "psi_out1"
   ]
  },
  {
   "cell_type": "code",
   "execution_count": null,
   "metadata": {},
   "outputs": [],
   "source": []
  }
 ],
 "metadata": {
  "kernelspec": {
   "display_name": "Python 3",
   "language": "python",
   "name": "python3"
  },
  "language_info": {
   "codemirror_mode": {
    "name": "ipython",
    "version": 3
   },
   "file_extension": ".py",
   "mimetype": "text/x-python",
   "name": "python",
   "nbconvert_exporter": "python",
   "pygments_lexer": "ipython3",
   "version": "3.6.4"
  }
 },
 "nbformat": 4,
 "nbformat_minor": 2
}
