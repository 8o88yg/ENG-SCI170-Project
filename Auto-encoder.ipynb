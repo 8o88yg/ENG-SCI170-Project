{
 "cells": [
  {
   "cell_type": "markdown",
   "metadata": {},
   "source": [
    "## Final Project\n",
    "By: Lisa Chille, Bobby Gonzalez, Bahlakoana Mabetha"
   ]
  },
  {
   "cell_type": "code",
   "execution_count": 1,
   "metadata": {},
   "outputs": [],
   "source": [
    "import numpy as np\n",
    "from scipy.optimize import fmin_l_bfgs_b as lbfgs\n",
    "#from scipy.optimize import minimize\n",
    "import matplotlib.pyplot as plt\n",
    "from qutip import *\n",
    "%matplotlib notebook\n",
    "from IPython.display import Image\n",
    "\n",
    "from openfermion.hamiltonians import MolecularData\n",
    "from openfermion.transforms import get_sparse_operator\n",
    "from openfermion.utils import get_ground_state"
   ]
  },
  {
   "cell_type": "markdown",
   "metadata": {},
   "source": [
    "## Reference\n",
    "https://arxiv.org/pdf/1612.02806.pdf - mainly based on this paper."
   ]
  },
  {
   "cell_type": "markdown",
   "metadata": {},
   "source": [
    "## Functions "
   ]
  },
  {
   "cell_type": "markdown",
   "metadata": {},
   "source": [
    "### Unitary gate\n",
    "The unitary gate architecture, $U_p$, it takes in angles as parameters."
   ]
  },
  {
   "cell_type": "code",
   "execution_count": 2,
   "metadata": {},
   "outputs": [],
   "source": [
    "def unitary_p (p_values):\n",
    "    N = 4\n",
    "    qc = QubitCircuit(N) # Initialize quantum circuit with 4 qubits\n",
    "\n",
    "    # Add Gates\n",
    "    qc.add_gate(\"PHASEGATE\", 0, None, p_values[0]) \n",
    "    qc.add_gate(\"PHASEGATE\", 1, None, p_values[1]) \n",
    "    qc.add_gate(\"PHASEGATE\", 2, None, p_values[2]) \n",
    "    qc.add_gate(\"PHASEGATE\", 3, None, p_values[3]) \n",
    "    qc.add_gate(\"CPHASE\", 1, 0, p_values[4]) \n",
    "    qc.add_gate(\"CPHASE\", 2, 0, p_values[5]) \n",
    "    qc.add_gate(\"CPHASE\", 3, 0, p_values[6]) \n",
    "    qc.add_gate(\"CPHASE\", 0, 1, p_values[7]) \n",
    "    qc.add_gate(\"CPHASE\", 2, 1, p_values[8]) \n",
    "    qc.add_gate(\"CPHASE\", 3, 1, p_values[9]) \n",
    "    qc.add_gate(\"CPHASE\", 0, 2, p_values[10]) \n",
    "    qc.add_gate(\"CPHASE\", 1, 2, p_values[11]) \n",
    "    qc.add_gate(\"CPHASE\", 3, 2, p_values[12]) \n",
    "    qc.add_gate(\"CPHASE\", 0, 3, p_values[13]) \n",
    "    qc.add_gate(\"CPHASE\", 1, 3, p_values[14]) \n",
    "    qc.add_gate(\"CPHASE\", 2, 3, p_values[15]) \n",
    "    qc.add_gate(\"PHASEGATE\", 0, None, p_values[16]) \n",
    "    qc.add_gate(\"PHASEGATE\", 1, None, p_values[17]) \n",
    "    qc.add_gate(\"PHASEGATE\", 2, None, p_values[18]) \n",
    "    qc.add_gate(\"PHASEGATE\", 3, None, p_values[19]) \n",
    "\n",
    "    # Find product of gates\n",
    "    U_p = gate_sequence_product(qc.propagators())\n",
    "\n",
    "    return U_p"
   ]
  },
  {
   "cell_type": "markdown",
   "metadata": {},
   "source": [
    "### Fidelity\n",
    "The `fidelity` function, $F(|\\psi_i \\rangle, \\rho_i^{out}) = \\langle \\psi_i|\\rho_i^{out}|\\psi_i \\rangle$. In this case, the variables to $F$ are $Tr_A[U_{}]$. Where $Tr_A$ is interpreted to be the partial trace over the qubits that we keep after encoding. "
   ]
  },
  {
   "cell_type": "code",
   "execution_count": 3,
   "metadata": {},
   "outputs": [],
   "source": [
    "def fidelity(unitary_p, psis, reference):\n",
    "    expects = 0\n",
    "    for i in range(len(psis)):\n",
    "        psi=psis[i]\n",
    "        psi_tens = Qobj(np.dot(psi.data.todense(),psi.data.todense().T))\n",
    "        unitary_mapping=Qobj(np.dot(unitary_p.data.todense(),np.dot(unitary_p.data.todense(),psi_tens.data.todense())))\n",
    "        unitary_mapping.dims = [[[2,2],[2,2]],[[2,2],[2,2]]]\n",
    "        partial = unitary_mapping.ptrace([2,3])\n",
    "        partial.dims= [[8], [8]]\n",
    "        expects += expect(partial,reference)\n",
    "    return expects"
   ]
  },
  {
   "cell_type": "markdown",
   "metadata": {},
   "source": [
    "### Cost function\n",
    "The `cost` function, $C_2(\\vec{p})$. It takes in the fidelity and rotation angles and sums over the product of the two."
   ]
  },
  {
   "cell_type": "code",
   "execution_count": 4,
   "metadata": {},
   "outputs": [
    {
     "data": {
      "text/plain": [
       "'    \\ndef cost(params, *args):\\n    cost = 0\\n    psis = args[0]\\n    reference = args[1]\\n    U_p = unitary_p(params)\\n    U_p.dims=[[16],[16]]\\n    for i in range(len(psis)):\\n        psi_in = psis[i]\\n        psi_up = np.dot(U_p, psi_in)\\n        psi_swap = swap_trashref(psi_up, reference, params)\\n        psi_out = np.dot(U_p.dag(), psi_swap)\\n        ampl = psi_in.trans()*psi_out\\n        prob = ampl.dag()*ampl\\n        prob = prob.data.toarray()\\n        cost += prob \\n    return 1 - cost[0,0]\\n'"
      ]
     },
     "execution_count": 4,
     "metadata": {},
     "output_type": "execute_result"
    }
   ],
   "source": [
    "def cost(params, *args):\n",
    "    cost = 0\n",
    "    unitary = unitary_p(params)\n",
    "    for p in params:\n",
    "        cost += p*fidelity(unitary,args[0],args[1])\n",
    "    return 1 - cost\n",
    "\n",
    "'''    \n",
    "def cost(params, *args):\n",
    "    cost = 0\n",
    "    psis = args[0]\n",
    "    reference = args[1]\n",
    "    U_p = unitary_p(params)\n",
    "    U_p.dims=[[16],[16]]\n",
    "    for i in range(len(psis)):\n",
    "        psi_in = psis[i]\n",
    "        psi_up = np.dot(U_p, psi_in)\n",
    "        psi_swap = swap_trashref(psi_up, reference, params)\n",
    "        psi_out = np.dot(U_p.dag(), psi_swap)\n",
    "        ampl = psi_in.trans()*psi_out\n",
    "        prob = ampl.dag()*ampl\n",
    "        prob = prob.data.toarray()\n",
    "        cost += prob \n",
    "    return 1 - cost[0,0]\n",
    "'''"
   ]
  },
  {
   "cell_type": "markdown",
   "metadata": {},
   "source": [
    "### Reference States\n",
    "The get reference function. It generates the fuction that will be used in decoding stage to recreate the input states. It also used to calculate fidelity. In this case we are using the $|0\\rangle$ as reference states. It takes in K, number of bits to be replaced, i, basis state used, length."
   ]
  },
  {
   "cell_type": "code",
   "execution_count": 5,
   "metadata": {},
   "outputs": [],
   "source": [
    "def get_reference(states, k):\n",
    "    reference = states [k]\n",
    "    reference = Qobj(reference[0:8])\n",
    "    return reference"
   ]
  },
  {
   "cell_type": "markdown",
   "metadata": {},
   "source": [
    "### Ground States of a H2 Molecule\n",
    "The `get_inputs` function. The function returns the groundstate and energies of the $H_2$ molecule for different molecular raduis."
   ]
  },
  {
   "cell_type": "code",
   "execution_count": 6,
   "metadata": {},
   "outputs": [],
   "source": [
    "def get_inputs():\n",
    "    states = []\n",
    "    energies = []\n",
    "    for i in np.arange(0.2,4.2,0.1):\n",
    "        string = 'H2_sto-3g_singlet_'+str(i)+'.hdf5'\n",
    "        molecule = MolecularData(filename = string)\n",
    "        molecular_ham = molecule.get_molecular_hamiltonian()\n",
    "        molecular_ham_sparse = get_sparse_operator(operator=molecular_ham, n_qubits=4)\n",
    "        ground_energy, ground_state = get_ground_state(molecular_ham_sparse)\n",
    "        energies.append(ground_energy)\n",
    "        states.append(ground_state)\n",
    "    return states, energies"
   ]
  },
  {
   "cell_type": "markdown",
   "metadata": {},
   "source": [
    "### Swap\n",
    "The `swap_trashref` function. This function swaps the trash states with the reference states, the resulting state is used to recreate the input states."
   ]
  },
  {
   "cell_type": "code",
   "execution_count": 7,
   "metadata": {},
   "outputs": [],
   "source": [
    "def swap_trashref(psis, references, params):\n",
    "    unitary = unitary_p(params)\n",
    "    unitary.dims=[[16],[16]]\n",
    "    psi = unitary*psis\n",
    "    psi = psi.data.toarray()\n",
    "    references = references.data.toarray()\n",
    "    k = len(references)\n",
    "    psi_swap = np.concatenate((references, psi[k:len(psi),:]), axis = 0)\n",
    "    psi_swap = Qobj(psi_swap)\n",
    "    return psi_swap"
   ]
  },
  {
   "cell_type": "markdown",
   "metadata": {},
   "source": [
    "### Optimisation\n",
    "This `optimisation` function will apply the unitary as many times as necessary to in order to minimise epsilon where epsilon is determined by the cost function.\n",
    "\n",
    "### Gradient Decent\n",
    "Calculate the hypothesis h = X * theta\n",
    "Calculate the loss = h - y and maybe the squared cost (loss^2)/2m\n",
    "Calculate the gradient = X' * loss / m\n",
    "Update the parameters theta = theta - alpha * gradient\n",
    "\n",
    "https://stackoverflow.com/questions/17784587/gradient-descent-using-python-and-numpy?utm_medium=organic&utm_source=google_rich_qa&utm_campaign=google_rich_qa"
   ]
  },
  {
   "cell_type": "code",
   "execution_count": 8,
   "metadata": {},
   "outputs": [],
   "source": [
    "def gradientDescent(train, reference, p_values, alpha, m, numIterations):\n",
    "    psis = train\n",
    "    losses = []\n",
    "    costs = []\n",
    "    for i in range(0, numIterations):\n",
    "        hypothesis = []\n",
    "        gradient = 0\n",
    "        cost = 0\n",
    "        U_p = unitary_p(p_values)\n",
    "        U_p.dims=[[16],[16]]\n",
    "        for j in range (len(psis)):\n",
    "            psi_in = psis[j]\n",
    "            psi_up = np.dot(U_p, psi_in)\n",
    "            psi_swap = swap_trashref(psi_up, reference, p_values)\n",
    "            psi_out = np.dot(U_p.dag(), psi_swap)\n",
    "            hypothesis.append(psi_out)\n",
    "            \n",
    "            ampl = psi_in.trans()*psi_out\n",
    "            prob = ampl.dag()*ampl\n",
    "            prob = prob.data.toarray()\n",
    "            cost += prob\n",
    "        hypothesis = np.asarray(hypothesis)\n",
    "        #hypothesis = hypothesis.data.toarray()\n",
    "        #train = train.data.toarray()\n",
    "        train = np.asarray(train)\n",
    "        loss = hypothesis - train\n",
    "        # avg gradient per example\n",
    "        for k in range (len(train)):\n",
    "            gradient += train[k].trans()*loss[k]\n",
    "        gradient = gradient[0][0][0] / m\n",
    "        costs.append(cost)\n",
    "        # update\n",
    "        p_values = p_values - alpha * gradient\n",
    "        p_values = p_values.real\n",
    "    return p_values, costs"
   ]
  },
  {
   "cell_type": "markdown",
   "metadata": {},
   "source": [
    "## Create input states"
   ]
  },
  {
   "cell_type": "code",
   "execution_count": 9,
   "metadata": {},
   "outputs": [],
   "source": [
    "states, energies = get_inputs()\n",
    "k = 0\n",
    "reference = get_reference(states, k)"
   ]
  },
  {
   "cell_type": "markdown",
   "metadata": {},
   "source": [
    "## Prepare States"
   ]
  },
  {
   "cell_type": "code",
   "execution_count": 10,
   "metadata": {},
   "outputs": [],
   "source": [
    "for i in range(len(states)):\n",
    "    states[i] = Qobj(states[i])"
   ]
  },
  {
   "cell_type": "markdown",
   "metadata": {},
   "source": [
    "## Prepare Training data"
   ]
  },
  {
   "cell_type": "code",
   "execution_count": 11,
   "metadata": {},
   "outputs": [],
   "source": [
    "test_ind = [1,3,5,7,10,14,18,22,28,36]\n",
    "train = []\n",
    "for i in range(len(test_ind)):\n",
    "    train.append(states[test_ind[i]])"
   ]
  },
  {
   "cell_type": "code",
   "execution_count": 12,
   "metadata": {},
   "outputs": [
    {
     "data": {
      "text/latex": [
       "Quantum object: dims = [[8], [1]], shape = (8, 1), type = ket\\begin{equation*}\\left(\\begin{array}{*{11}c}-4.778\\times10^{-17}\\\\8.809\\times10^{-17}\\\\-2.499\\times10^{-17}\\\\(-0.039+0.015j)\\\\-2.871\\times10^{-17}\\\\-6.780\\times10^{-18}\\\\4.817\\times10^{-17}\\\\1.400\\times10^{-16}\\\\\\end{array}\\right)\\end{equation*}"
      ],
      "text/plain": [
       "Quantum object: dims = [[8], [1]], shape = (8, 1), type = ket\n",
       "Qobj data =\n",
       "[[ -4.77792529e-17 -1.05277101e-19j]\n",
       " [  8.80942537e-17 +1.83797119e-16j]\n",
       " [ -2.49930333e-17 +4.90932310e-17j]\n",
       " [ -3.93979145e-02 +1.54782526e-02j]\n",
       " [ -2.87119123e-17 +2.87189513e-17j]\n",
       " [ -6.78035034e-18 -5.11226063e-17j]\n",
       " [  4.81743691e-17 +7.59067339e-17j]\n",
       " [  1.39996361e-16 -1.53833527e-16j]]"
      ]
     },
     "execution_count": 12,
     "metadata": {},
     "output_type": "execute_result"
    }
   ],
   "source": [
    "reference"
   ]
  },
  {
   "cell_type": "markdown",
   "metadata": {},
   "source": [
    "## Initial rotation angles\n",
    "This assumes that the angles are independent, $P(\\theta_i|\\theta_j) = P(\\theta_i)$. The initial angles are a random guess."
   ]
  },
  {
   "cell_type": "code",
   "execution_count": 13,
   "metadata": {},
   "outputs": [],
   "source": [
    "initial_values = np.random.random_sample(20)*2*np.pi"
   ]
  },
  {
   "cell_type": "markdown",
   "metadata": {},
   "source": [
    "## Train the architecture \n",
    "This is used to determine the optimal angels for each rotation gate. Optimization is done using the lbfgs optimizing function."
   ]
  },
  {
   "cell_type": "code",
   "execution_count": 14,
   "metadata": {},
   "outputs": [
    {
     "name": "stderr",
     "output_type": "stream",
     "text": [
      "/anaconda3/lib/python3.6/site-packages/scipy/optimize/optimize.py:643: ComplexWarning: Casting complex values to real discards the imaginary part\n",
      "  grad[k] = (f(*((xk + d,) + args)) - f0) / d[k]\n",
      "/anaconda3/lib/python3.6/site-packages/scipy/optimize/lbfgsb.py:328: ComplexWarning: Casting complex values to real discards the imaginary part\n",
      "  isave, dsave, maxls)\n"
     ]
    }
   ],
   "source": [
    "threeparam1 = lbfgs(cost, x0=initial_values, args=(train,\n",
    "                                                   reference),\n",
    "                                                   approx_grad=True)"
   ]
  },
  {
   "cell_type": "code",
   "execution_count": 15,
   "metadata": {},
   "outputs": [],
   "source": [
    "#threeparam1, costs = gradientDescent(train, reference, initial_values, 0.01, len(states), 1000)"
   ]
  },
  {
   "cell_type": "markdown",
   "metadata": {},
   "source": [
    "## Compare initial values and optimized values"
   ]
  },
  {
   "cell_type": "code",
   "execution_count": 16,
   "metadata": {},
   "outputs": [
    {
     "data": {
      "text/plain": [
       "array([ 1.41269869,  5.55082746,  3.96987627,  0.61446915,  6.15534563,\n",
       "        1.60337828,  3.03426195,  1.35424803,  2.68510071,  1.84855187,\n",
       "        0.79312335,  2.5024018 ,  3.59492759,  2.42019292,  1.51014021,\n",
       "        4.55532425,  2.28407206,  4.92089968,  6.07455573,  3.85401854])"
      ]
     },
     "execution_count": 16,
     "metadata": {},
     "output_type": "execute_result"
    }
   ],
   "source": [
    "initial_values"
   ]
  },
  {
   "cell_type": "code",
   "execution_count": 17,
   "metadata": {},
   "outputs": [
    {
     "data": {
      "text/plain": [
       "array([ 1.41269869,  5.55082746,  3.96987627,  0.61446915,  6.15534563,\n",
       "        1.60337828,  3.03426195,  1.35424803,  2.68510071,  1.84855187,\n",
       "        0.79312335,  2.5024018 ,  3.59492759,  2.42019292,  1.51014021,\n",
       "        4.55532425,  2.28407206,  4.92089968,  6.07455573,  3.85401854])"
      ]
     },
     "execution_count": 17,
     "metadata": {},
     "output_type": "execute_result"
    }
   ],
   "source": [
    "threeparam1[0]%(2*np.pi)"
   ]
  },
  {
   "cell_type": "code",
   "execution_count": 18,
   "metadata": {},
   "outputs": [
    {
     "data": {
      "text/plain": [
       "(array([ 1.41269869,  5.55082746,  3.96987627,  0.61446915,  6.15534563,\n",
       "         1.60337828,  3.03426195,  1.35424803,  2.68510071,  1.84855187,\n",
       "         0.79312335,  2.5024018 ,  3.59492759,  2.42019292,  1.51014021,\n",
       "         4.55532425,  2.28407206,  4.92089968,  6.07455573,  3.85401854]),\n",
       " (nan+nan*j),\n",
       " {'funcalls': 21,\n",
       "  'grad': array([ nan,  nan,  nan,  nan,  nan,  nan,  nan,  nan,  nan,  nan,  nan,\n",
       "          nan,  nan,  nan,  nan,  nan,  nan,  nan,  nan,  nan]),\n",
       "  'nit': 0,\n",
       "  'task': b'CONVERGENCE: NORM_OF_PROJECTED_GRADIENT_<=_PGTOL',\n",
       "  'warnflag': 0})"
      ]
     },
     "execution_count": 18,
     "metadata": {},
     "output_type": "execute_result"
    }
   ],
   "source": [
    "threeparam1"
   ]
  },
  {
   "cell_type": "markdown",
   "metadata": {},
   "source": [
    "## Input the optimized values in the architecture"
   ]
  },
  {
   "cell_type": "code",
   "execution_count": 19,
   "metadata": {},
   "outputs": [
    {
     "data": {
      "text/latex": [
       "Quantum object: dims = [[16], [16]], shape = (16, 16), type = oper, isherm = False\\begin{equation*}\\left(\\begin{array}{*{11}c}1.0 & 0.0 & 0.0 & 0.0 & 0.0 & \\cdots & 0.0 & 0.0 & 0.0 & 0.0 & 0.0\\\\0.0 & (-0.241-0.970j) & 0.0 & 0.0 & 0.0 & \\cdots & 0.0 & 0.0 & 0.0 & 0.0 & 0.0\\\\0.0 & 0.0 & (-0.814-0.581j) & 0.0 & 0.0 & \\cdots & 0.0 & 0.0 & 0.0 & 0.0 & 0.0\\\\0.0 & 0.0 & 0.0 & (-0.783-0.623j) & 0.0 & \\cdots & 0.0 & 0.0 & 0.0 & 0.0 & 0.0\\\\0.0 & 0.0 & 0.0 & 0.0 & (-0.500-0.866j) & \\cdots & 0.0 & 0.0 & 0.0 & 0.0 & 0.0\\\\\\vdots & \\vdots & \\vdots & \\vdots & \\vdots & \\ddots & \\vdots & \\vdots & \\vdots & \\vdots & \\vdots\\\\0.0 & 0.0 & 0.0 & 0.0 & 0.0 & \\cdots & (-0.941+0.340j) & 0.0 & 0.0 & 0.0 & 0.0\\\\0.0 & 0.0 & 0.0 & 0.0 & 0.0 & \\cdots & 0.0 & (-0.951+0.308j) & 0.0 & 0.0 & 0.0\\\\0.0 & 0.0 & 0.0 & 0.0 & 0.0 & \\cdots & 0.0 & 0.0 & (-0.920-0.391j) & 0.0 & 0.0\\\\0.0 & 0.0 & 0.0 & 0.0 & 0.0 & \\cdots & 0.0 & 0.0 & 0.0 & (-0.037+0.999j) & 0.0\\\\0.0 & 0.0 & 0.0 & 0.0 & 0.0 & \\cdots & 0.0 & 0.0 & 0.0 & 0.0 & (-0.499-0.867j)\\\\\\end{array}\\right)\\end{equation*}"
      ],
      "text/plain": [
       "Quantum object: dims = [[16], [16]], shape = (16, 16), type = oper, isherm = False\n",
       "Qobj data =\n",
       "[[ 1.00000000+0.j          0.00000000+0.j          0.00000000+0.j\n",
       "   0.00000000+0.j          0.00000000+0.j          0.00000000+0.j\n",
       "   0.00000000+0.j          0.00000000+0.j          0.00000000+0.j\n",
       "   0.00000000+0.j          0.00000000+0.j          0.00000000+0.j\n",
       "   0.00000000+0.j          0.00000000+0.j          0.00000000+0.j\n",
       "   0.00000000+0.j        ]\n",
       " [ 0.00000000+0.j         -0.24149028-0.97040324j  0.00000000+0.j\n",
       "   0.00000000+0.j          0.00000000+0.j          0.00000000+0.j\n",
       "   0.00000000+0.j          0.00000000+0.j          0.00000000+0.j\n",
       "   0.00000000+0.j          0.00000000+0.j          0.00000000+0.j\n",
       "   0.00000000+0.j          0.00000000+0.j          0.00000000+0.j\n",
       "   0.00000000+0.j        ]\n",
       " [ 0.00000000+0.j          0.00000000+0.j         -0.81407943-0.58075355j\n",
       "   0.00000000+0.j          0.00000000+0.j          0.00000000+0.j\n",
       "   0.00000000+0.j          0.00000000+0.j          0.00000000+0.j\n",
       "   0.00000000+0.j          0.00000000+0.j          0.00000000+0.j\n",
       "   0.00000000+0.j          0.00000000+0.j          0.00000000+0.j\n",
       "   0.00000000+0.j        ]\n",
       " [ 0.00000000+0.j          0.00000000+0.j          0.00000000+0.j\n",
       "  -0.78256383-0.62257035j  0.00000000+0.j          0.00000000+0.j\n",
       "   0.00000000+0.j          0.00000000+0.j          0.00000000+0.j\n",
       "   0.00000000+0.j          0.00000000+0.j          0.00000000+0.j\n",
       "   0.00000000+0.j          0.00000000+0.j          0.00000000+0.j\n",
       "   0.00000000+0.j        ]\n",
       " [ 0.00000000+0.j          0.00000000+0.j          0.00000000+0.j\n",
       "   0.00000000+0.j         -0.50021508-0.86590119j  0.00000000+0.j\n",
       "   0.00000000+0.j          0.00000000+0.j          0.00000000+0.j\n",
       "   0.00000000+0.j          0.00000000+0.j          0.00000000+0.j\n",
       "   0.00000000+0.j          0.00000000+0.j          0.00000000+0.j\n",
       "   0.00000000+0.j        ]\n",
       " [ 0.00000000+0.j          0.00000000+0.j          0.00000000+0.j\n",
       "   0.00000000+0.j          0.00000000+0.j          0.85218511-0.52324042j\n",
       "   0.00000000+0.j          0.00000000+0.j          0.00000000+0.j\n",
       "   0.00000000+0.j          0.00000000+0.j          0.00000000+0.j\n",
       "   0.00000000+0.j          0.00000000+0.j          0.00000000+0.j\n",
       "   0.00000000+0.j        ]\n",
       " [ 0.00000000+0.j          0.00000000+0.j          0.00000000+0.j\n",
       "   0.00000000+0.j          0.00000000+0.j          0.00000000+0.j\n",
       "   0.84140393+0.54040672j  0.00000000+0.j          0.00000000+0.j\n",
       "   0.00000000+0.j          0.00000000+0.j          0.00000000+0.j\n",
       "   0.00000000+0.j          0.00000000+0.j          0.00000000+0.j\n",
       "   0.00000000+0.j        ]\n",
       " [ 0.00000000+0.j          0.00000000+0.j          0.00000000+0.j\n",
       "   0.00000000+0.j          0.00000000+0.j          0.00000000+0.j\n",
       "   0.00000000+0.j         -0.66717329-0.74490255j  0.00000000+0.j\n",
       "   0.00000000+0.j          0.00000000+0.j          0.00000000+0.j\n",
       "   0.00000000+0.j          0.00000000+0.j          0.00000000+0.j\n",
       "   0.00000000+0.j        ]\n",
       " [ 0.00000000+0.j          0.00000000+0.j          0.00000000+0.j\n",
       "   0.00000000+0.j          0.00000000+0.j          0.00000000+0.j\n",
       "   0.00000000+0.j          0.00000000+0.j         -0.84980658-0.52709466j\n",
       "   0.00000000+0.j          0.00000000+0.j          0.00000000+0.j\n",
       "   0.00000000+0.j          0.00000000+0.j          0.00000000+0.j\n",
       "   0.00000000+0.j        ]\n",
       " [ 0.00000000+0.j          0.00000000+0.j          0.00000000+0.j\n",
       "   0.00000000+0.j          0.00000000+0.j          0.00000000+0.j\n",
       "   0.00000000+0.j          0.00000000+0.j          0.00000000+0.j\n",
       "   0.49466873+0.86908161j  0.00000000+0.j          0.00000000+0.j\n",
       "   0.00000000+0.j          0.00000000+0.j          0.00000000+0.j\n",
       "   0.00000000+0.j        ]\n",
       " [ 0.00000000+0.j          0.00000000+0.j          0.00000000+0.j\n",
       "   0.00000000+0.j          0.00000000+0.j          0.00000000+0.j\n",
       "   0.00000000+0.j          0.00000000+0.j          0.00000000+0.j\n",
       "   0.00000000+0.j         -0.90907364-0.41663548j  0.00000000+0.j\n",
       "   0.00000000+0.j          0.00000000+0.j          0.00000000+0.j\n",
       "   0.00000000+0.j        ]\n",
       " [ 0.00000000+0.j          0.00000000+0.j          0.00000000+0.j\n",
       "   0.00000000+0.j          0.00000000+0.j          0.00000000+0.j\n",
       "   0.00000000+0.j          0.00000000+0.j          0.00000000+0.j\n",
       "   0.00000000+0.j          0.00000000+0.j         -0.94052621+0.33972114j\n",
       "   0.00000000+0.j          0.00000000+0.j          0.00000000+0.j\n",
       "   0.00000000+0.j        ]\n",
       " [ 0.00000000+0.j          0.00000000+0.j          0.00000000+0.j\n",
       "   0.00000000+0.j          0.00000000+0.j          0.00000000+0.j\n",
       "   0.00000000+0.j          0.00000000+0.j          0.00000000+0.j\n",
       "   0.00000000+0.j          0.00000000+0.j          0.00000000+0.j\n",
       "  -0.95139655+0.3079685j   0.00000000+0.j          0.00000000+0.j\n",
       "   0.00000000+0.j        ]\n",
       " [ 0.00000000+0.j          0.00000000+0.j          0.00000000+0.j\n",
       "   0.00000000+0.j          0.00000000+0.j          0.00000000+0.j\n",
       "   0.00000000+0.j          0.00000000+0.j          0.00000000+0.j\n",
       "   0.00000000+0.j          0.00000000+0.j          0.00000000+0.j\n",
       "   0.00000000+0.j         -0.92019930-0.39145019j  0.00000000+0.j\n",
       "   0.00000000+0.j        ]\n",
       " [ 0.00000000+0.j          0.00000000+0.j          0.00000000+0.j\n",
       "   0.00000000+0.j          0.00000000+0.j          0.00000000+0.j\n",
       "   0.00000000+0.j          0.00000000+0.j          0.00000000+0.j\n",
       "   0.00000000+0.j          0.00000000+0.j          0.00000000+0.j\n",
       "   0.00000000+0.j          0.00000000+0.j         -0.03661135+0.99932958j\n",
       "   0.00000000+0.j        ]\n",
       " [ 0.00000000+0.j          0.00000000+0.j          0.00000000+0.j\n",
       "   0.00000000+0.j          0.00000000+0.j          0.00000000+0.j\n",
       "   0.00000000+0.j          0.00000000+0.j          0.00000000+0.j\n",
       "   0.00000000+0.j          0.00000000+0.j          0.00000000+0.j\n",
       "   0.00000000+0.j          0.00000000+0.j          0.00000000+0.j\n",
       "  -0.49917166-0.86650312j]]"
      ]
     },
     "metadata": {},
     "output_type": "display_data"
    }
   ],
   "source": [
    "opt_p = threeparam1[0]%(2*np.pi)\n",
    "U_p = unitary_p(opt_p)\n",
    "U_p.dims=[[16],[16]]\n",
    "display(U_p)"
   ]
  },
  {
   "cell_type": "markdown",
   "metadata": {},
   "source": [
    "## Compute encoding "
   ]
  },
  {
   "cell_type": "code",
   "execution_count": 20,
   "metadata": {},
   "outputs": [],
   "source": [
    "probs = []\n",
    "for i in range(len(states)):\n",
    "    psi_in = states[i]\n",
    "    psi_up = np.dot(U_p, psi_in)\n",
    "    psi_up = psi_up /(psi_up.norm())\n",
    "    psi_swap = swap_trashref(psi_up, reference, opt_p)\n",
    "    psi_swap = psi_swap /(psi_swap.norm())\n",
    "    psi_out = np.dot(U_p.dag(), psi_swap)\n",
    "    psi_out = psi_out/(psi_out.norm()) \n",
    "    ampl = psi_in.dag()*psi_out\n",
    "    amp2 = psi_out.dag()*psi_in\n",
    "    prob = ampl*amp2\n",
    "    # prob = ampl.dag()*ampl\n",
    "    prob = prob.data.toarray()\n",
    "    probs.append(prob[0][0])"
   ]
  },
  {
   "cell_type": "code",
   "execution_count": 21,
   "metadata": {},
   "outputs": [],
   "source": [
    "amp2 = psi_out.dag()*psi_in\n",
    "prob = ampl*amp2"
   ]
  },
  {
   "cell_type": "code",
   "execution_count": 22,
   "metadata": {},
   "outputs": [
    {
     "data": {
      "text/plain": [
       "array([[ 0.53186871+0.j]])"
      ]
     },
     "execution_count": 22,
     "metadata": {},
     "output_type": "execute_result"
    }
   ],
   "source": [
    "prob[0]"
   ]
  },
  {
   "cell_type": "code",
   "execution_count": 23,
   "metadata": {},
   "outputs": [],
   "source": [
    "prob = ampl.dag()*ampl"
   ]
  },
  {
   "cell_type": "code",
   "execution_count": 24,
   "metadata": {},
   "outputs": [
    {
     "data": {
      "text/latex": [
       "Quantum object: dims = [[1], [1]], shape = (1, 1), type = bra\\begin{equation*}\\left(\\begin{array}{*{11}c}0.532\\\\\\end{array}\\right)\\end{equation*}"
      ],
      "text/plain": [
       "Quantum object: dims = [[1], [1]], shape = (1, 1), type = bra\n",
       "Qobj data =\n",
       "[[ 0.53186871]]"
      ]
     },
     "execution_count": 24,
     "metadata": {},
     "output_type": "execute_result"
    }
   ],
   "source": [
    "prob"
   ]
  },
  {
   "cell_type": "markdown",
   "metadata": {},
   "source": [
    "## Plot the recreation probability"
   ]
  },
  {
   "cell_type": "code",
   "execution_count": 25,
   "metadata": {},
   "outputs": [
    {
     "data": {
      "text/plain": [
       "[(0.99977199630280533+0j),\n",
       " (0.99159413526450413+0j),\n",
       " (0.99448380247110135+0j),\n",
       " (0.98712305317280491+0j),\n",
       " (0.985887081927459+0j),\n",
       " (0.9785092253035137+0j),\n",
       " (0.98017138801509007+0j),\n",
       " (0.97149874909964573+0j),\n",
       " (0.96920344133596448+0j),\n",
       " (0.95688638203805965+0j),\n",
       " (0.96119165363903458+0j),\n",
       " (0.93307228512476492+0j),\n",
       " (0.89452089155575198+0j),\n",
       " (0.87002596347868999+0j),\n",
       " (0.86243987409719802+0j),\n",
       " (0.77309263564333319+0j),\n",
       " (0.79322242793133946+0j),\n",
       " (0.73716056885177572+0j),\n",
       " (0.67420561134034585+0j),\n",
       " (0.70797663156243151+0j),\n",
       " (0.61176657259510492+0j),\n",
       " (0.59199494599288893+0j),\n",
       " (0.56109465267252689+0j),\n",
       " (0.62255952694630001+0j),\n",
       " (0.52392777570398941+0j),\n",
       " (0.59534099471282953+0j),\n",
       " (0.54461986289698594+0j),\n",
       " (0.48935714778041628+0j),\n",
       " (0.55349488011594805+0j),\n",
       " (0.58522672031533129+0j),\n",
       " (0.55106069560042048+0j),\n",
       " (0.46860430460585445+0j),\n",
       " (0.56833254036935221+0j),\n",
       " (0.50259507160561223+0j),\n",
       " (0.46236198156189573+0j),\n",
       " (0.53264422442989345+0j),\n",
       " (0.47272993535304575+0j),\n",
       " (0.44902912631002662+0j),\n",
       " (0.45414193731663099+0j),\n",
       " (0.53186870579067425+0j)]"
      ]
     },
     "execution_count": 25,
     "metadata": {},
     "output_type": "execute_result"
    }
   ],
   "source": [
    "probs"
   ]
  },
  {
   "cell_type": "code",
   "execution_count": 26,
   "metadata": {},
   "outputs": [
    {
     "name": "stderr",
     "output_type": "stream",
     "text": [
      "/anaconda3/lib/python3.6/site-packages/numpy/core/numeric.py:583: ComplexWarning: Casting complex values to real discards the imaginary part\n",
      "  return array(a, dtype, copy=False, order=order, subok=True)\n"
     ]
    },
    {
     "data": {
      "text/plain": [
       "Text(0.5,0,'Molecular Bond Length (Angstrom)')"
      ]
     },
     "execution_count": 26,
     "metadata": {},
     "output_type": "execute_result"
    },
    {
     "data": {
      "image/png": "[encoded data removed]",
      "text/plain": [
       "<matplotlib.figure.Figure at 0x7ff39d39cbe0>"
      ]
     },
     "metadata": {},
     "output_type": "display_data"
    }
   ],
   "source": [
    "x = np.arange(0.2,4.2,0.1)\n",
    "plt.scatter(x,probs, c = 'r')\n",
    "plt.title('Ground State Reconstruction - Simple Cost')\n",
    "plt.ylabel('Reconstruction Accuracy')\n",
    "plt.xlabel('Molecular Bond Length (Angstrom)')"
   ]
  },
  {
   "cell_type": "code",
   "execution_count": 27,
   "metadata": {},
   "outputs": [],
   "source": [
    "#costs"
   ]
  },
  {
   "cell_type": "code",
   "execution_count": 28,
   "metadata": {},
   "outputs": [],
   "source": [
    "#len(costs)"
   ]
  },
  {
   "cell_type": "code",
   "execution_count": 29,
   "metadata": {},
   "outputs": [],
   "source": [
    "#x = np.arange(1,len(costs),1)"
   ]
  },
  {
   "cell_type": "code",
   "execution_count": 30,
   "metadata": {},
   "outputs": [],
   "source": [
    "#x.shape"
   ]
  },
  {
   "cell_type": "code",
   "execution_count": 31,
   "metadata": {},
   "outputs": [
    {
     "data": {
      "text/plain": [
       "\"\\nx = np.arange(0,len(costs),1)\\nplt.scatter(x,costs, c = 'r')\\nplt.title('Cost Function Evolution')\\nplt.ylabel('Cost Function')\\nplt.xlabel('Number of Iterations')\\n\""
      ]
     },
     "execution_count": 31,
     "metadata": {},
     "output_type": "execute_result"
    }
   ],
   "source": [
    "'''\n",
    "x = np.arange(0,len(costs),1)\n",
    "plt.scatter(x,costs, c = 'r')\n",
    "plt.title('Cost Function Evolution')\n",
    "plt.ylabel('Cost Function')\n",
    "plt.xlabel('Number of Iterations')\n",
    "'''"
   ]
  },
  {
   "cell_type": "code",
   "execution_count": 32,
   "metadata": {},
   "outputs": [],
   "source": [
    "psi_up = np.dot(U_p, psi_in)"
   ]
  },
  {
   "cell_type": "code",
   "execution_count": 33,
   "metadata": {},
   "outputs": [],
   "source": [
    "psi_in = states[35]\n",
    "psi_up = np.dot(U_p, psi_in)"
   ]
  },
  {
   "cell_type": "code",
   "execution_count": 34,
   "metadata": {},
   "outputs": [
    {
     "data": {
      "text/latex": [
       "Quantum object: dims = [[8], [1]], shape = (8, 1), type = ket\\begin{equation*}\\left(\\begin{array}{*{11}c}-4.778\\times10^{-17}\\\\8.809\\times10^{-17}\\\\-2.499\\times10^{-17}\\\\(-0.039+0.015j)\\\\-2.871\\times10^{-17}\\\\-6.780\\times10^{-18}\\\\4.817\\times10^{-17}\\\\1.400\\times10^{-16}\\\\\\end{array}\\right)\\end{equation*}"
      ],
      "text/plain": [
       "Quantum object: dims = [[8], [1]], shape = (8, 1), type = ket\n",
       "Qobj data =\n",
       "[[ -4.77792529e-17 -1.05277101e-19j]\n",
       " [  8.80942537e-17 +1.83797119e-16j]\n",
       " [ -2.49930333e-17 +4.90932310e-17j]\n",
       " [ -3.93979145e-02 +1.54782526e-02j]\n",
       " [ -2.87119123e-17 +2.87189513e-17j]\n",
       " [ -6.78035034e-18 -5.11226063e-17j]\n",
       " [  4.81743691e-17 +7.59067339e-17j]\n",
       " [  1.39996361e-16 -1.53833527e-16j]]"
      ]
     },
     "execution_count": 34,
     "metadata": {},
     "output_type": "execute_result"
    }
   ],
   "source": [
    "reference"
   ]
  },
  {
   "cell_type": "markdown",
   "metadata": {},
   "source": [
    "## Swap reference states with trash states"
   ]
  },
  {
   "cell_type": "code",
   "execution_count": 35,
   "metadata": {},
   "outputs": [],
   "source": [
    "psi_swap = swap_trashref(psi_up, reference, opt_p)"
   ]
  },
  {
   "cell_type": "markdown",
   "metadata": {},
   "source": [
    "## Construct the output\n",
    "The output should ideally resemble the input."
   ]
  },
  {
   "cell_type": "code",
   "execution_count": 36,
   "metadata": {},
   "outputs": [],
   "source": [
    "psi_out = np.dot(U_p.dag(), psi_swap)"
   ]
  },
  {
   "cell_type": "markdown",
   "metadata": {},
   "source": [
    "## Compare input with output"
   ]
  },
  {
   "cell_type": "code",
   "execution_count": 37,
   "metadata": {},
   "outputs": [
    {
     "data": {
      "text/plain": [
       "1.0"
      ]
     },
     "execution_count": 37,
     "metadata": {},
     "output_type": "execute_result"
    }
   ],
   "source": [
    "psi_in.norm() "
   ]
  },
  {
   "cell_type": "code",
   "execution_count": 38,
   "metadata": {},
   "outputs": [
    {
     "data": {
      "text/latex": [
       "Quantum object: dims = [[16], [1]], shape = (16, 1), type = ket\\begin{equation*}\\left(\\begin{array}{*{11}c}0.0\\\\0.0\\\\0.0\\\\(0.244-0.657j)\\\\0.0\\\\\\vdots\\\\0.0\\\\(0.420+0.577j)\\\\0.0\\\\0.0\\\\0.0\\\\\\end{array}\\right)\\end{equation*}"
      ],
      "text/plain": [
       "Quantum object: dims = [[16], [1]], shape = (16, 1), type = ket\n",
       "Qobj data =\n",
       "[[  0.00000000e+00 +0.00000000e+00j]\n",
       " [  0.00000000e+00 +0.00000000e+00j]\n",
       " [  0.00000000e+00 +0.00000000e+00j]\n",
       " [  2.44024492e-01 -6.57030347e-01j]\n",
       " [  0.00000000e+00 +0.00000000e+00j]\n",
       " [  0.00000000e+00 -3.34612502e-12j]\n",
       " [  1.51121574e-12 +0.00000000e+00j]\n",
       " [  0.00000000e+00 +0.00000000e+00j]\n",
       " [  0.00000000e+00 +0.00000000e+00j]\n",
       " [  1.51508486e-12 +0.00000000e+00j]\n",
       " [  1.88441382e-12 +2.45735136e-12j]\n",
       " [  0.00000000e+00 +0.00000000e+00j]\n",
       " [  4.19914404e-01 +5.76571820e-01j]\n",
       " [  0.00000000e+00 +0.00000000e+00j]\n",
       " [  0.00000000e+00 +0.00000000e+00j]\n",
       " [  0.00000000e+00 +0.00000000e+00j]]"
      ]
     },
     "execution_count": 38,
     "metadata": {},
     "output_type": "execute_result"
    }
   ],
   "source": [
    "psi_up"
   ]
  },
  {
   "cell_type": "code",
   "execution_count": 39,
   "metadata": {},
   "outputs": [
    {
     "data": {
      "text/latex": [
       "Quantum object: dims = [[16], [1]], shape = (16, 1), type = ket\\begin{equation*}\\left(\\begin{array}{*{11}c}-4.778\\times10^{-17}\\\\8.809\\times10^{-17}\\\\-2.499\\times10^{-17}\\\\(-0.039+0.015j)\\\\-2.871\\times10^{-17}\\\\\\vdots\\\\0.0\\\\(-0.577-0.419j)\\\\0.0\\\\0.0\\\\0.0\\\\\\end{array}\\right)\\end{equation*}"
      ],
      "text/plain": [
       "Quantum object: dims = [[16], [1]], shape = (16, 1), type = ket\n",
       "Qobj data =\n",
       "[[ -4.77792529e-17 -1.05277101e-19j]\n",
       " [  8.80942537e-17 +1.83797119e-16j]\n",
       " [ -2.49930333e-17 +4.90932310e-17j]\n",
       " [ -3.93979145e-02 +1.54782526e-02j]\n",
       " [ -2.87119123e-17 +2.87189513e-17j]\n",
       " [ -6.78035034e-18 -5.11226063e-17j]\n",
       " [  4.81743691e-17 +7.59067339e-17j]\n",
       " [  1.39996361e-16 -1.53833527e-16j]\n",
       " [  0.00000000e+00 +0.00000000e+00j]\n",
       " [  0.00000000e+00 +1.31673239e-12j]\n",
       " [  0.00000000e+00 -3.01902700e-12j]\n",
       " [  0.00000000e+00 +0.00000000e+00j]\n",
       " [ -5.77071076e-01 -4.19228032e-01j]\n",
       " [  0.00000000e+00 +0.00000000e+00j]\n",
       " [  0.00000000e+00 +0.00000000e+00j]\n",
       " [  0.00000000e+00 +0.00000000e+00j]]"
      ]
     },
     "execution_count": 39,
     "metadata": {},
     "output_type": "execute_result"
    }
   ],
   "source": [
    "psi_swap"
   ]
  },
  {
   "cell_type": "code",
   "execution_count": 40,
   "metadata": {},
   "outputs": [],
   "source": [
    "psi_out = psi_out / psi_out.norm() "
   ]
  },
  {
   "cell_type": "code",
   "execution_count": 41,
   "metadata": {},
   "outputs": [
    {
     "data": {
      "text/plain": [
       "1.0"
      ]
     },
     "execution_count": 41,
     "metadata": {},
     "output_type": "execute_result"
    }
   ],
   "source": [
    "psi_out.norm() "
   ]
  },
  {
   "cell_type": "code",
   "execution_count": 42,
   "metadata": {},
   "outputs": [
    {
     "data": {
      "text/latex": [
       "Quantum object: dims = [[1], [1]], shape = (1, 1), type = bra\\begin{equation*}\\left(\\begin{array}{*{11}c}0.533\\\\\\end{array}\\right)\\end{equation*}"
      ],
      "text/plain": [
       "Quantum object: dims = [[1], [1]], shape = (1, 1), type = bra\n",
       "Qobj data =\n",
       "[[ 0.53264422]]"
      ]
     },
     "execution_count": 42,
     "metadata": {},
     "output_type": "execute_result"
    }
   ],
   "source": [
    "ampl = psi_in.trans()*psi_out\n",
    "prob = ampl.dag()*ampl\n",
    "prob"
   ]
  },
  {
   "cell_type": "code",
   "execution_count": 43,
   "metadata": {},
   "outputs": [
    {
     "data": {
      "text/plain": [
       "'\\npsi_ina = psi_in.data.toarray()\\npsi_ina\\n'"
      ]
     },
     "execution_count": 43,
     "metadata": {},
     "output_type": "execute_result"
    }
   ],
   "source": [
    "'''\n",
    "psi_ina = psi_in.data.toarray()\n",
    "psi_ina\n",
    "'''"
   ]
  },
  {
   "cell_type": "code",
   "execution_count": 44,
   "metadata": {},
   "outputs": [
    {
     "data": {
      "text/plain": [
       "'psi_upa = psi_up.data.toarray()\\npsi_upa\\n'"
      ]
     },
     "execution_count": 44,
     "metadata": {},
     "output_type": "execute_result"
    }
   ],
   "source": [
    "'''psi_upa = psi_up.data.toarray()\n",
    "psi_upa\n",
    "'''"
   ]
  },
  {
   "cell_type": "code",
   "execution_count": 45,
   "metadata": {},
   "outputs": [
    {
     "data": {
      "text/plain": [
       "'psi_swapa = psi_swap.data.toarray()\\npsi_swapa\\n'"
      ]
     },
     "execution_count": 45,
     "metadata": {},
     "output_type": "execute_result"
    }
   ],
   "source": [
    "'''psi_swapa = psi_swap.data.toarray()\n",
    "psi_swapa\n",
    "'''"
   ]
  },
  {
   "cell_type": "code",
   "execution_count": 46,
   "metadata": {},
   "outputs": [
    {
     "data": {
      "text/plain": [
       "'psi_outa = psi_out.data.toarray()\\npsi_outa\\n'"
      ]
     },
     "execution_count": 46,
     "metadata": {},
     "output_type": "execute_result"
    }
   ],
   "source": [
    "'''psi_outa = psi_out.data.toarray()\n",
    "psi_outa\n",
    "'''"
   ]
  },
  {
   "cell_type": "code",
   "execution_count": 47,
   "metadata": {},
   "outputs": [
    {
     "data": {
      "text/plain": [
       "'psi_in1 = psi_ina[8:len(psi_ina),:] \\npsi_in1 = Qobj(psi_in1)\\n'"
      ]
     },
     "execution_count": 47,
     "metadata": {},
     "output_type": "execute_result"
    }
   ],
   "source": [
    "'''psi_in1 = psi_ina[8:len(psi_ina),:] \n",
    "psi_in1 = Qobj(psi_in1)\n",
    "'''"
   ]
  },
  {
   "cell_type": "code",
   "execution_count": 48,
   "metadata": {},
   "outputs": [
    {
     "data": {
      "text/plain": [
       "'psi_out1 = psi_outa[8:len(psi_outa),:] \\npsi_out1 = Qobj(psi_out1)\\n'"
      ]
     },
     "execution_count": 48,
     "metadata": {},
     "output_type": "execute_result"
    }
   ],
   "source": [
    "'''psi_out1 = psi_outa[8:len(psi_outa),:] \n",
    "psi_out1 = Qobj(psi_out1)\n",
    "'''"
   ]
  },
  {
   "cell_type": "code",
   "execution_count": 49,
   "metadata": {},
   "outputs": [
    {
     "data": {
      "text/plain": [
       "'ampl = psi_in1.trans()*psi_out1\\nprob = ampl.dag()*ampl\\nprob\\n'"
      ]
     },
     "execution_count": 49,
     "metadata": {},
     "output_type": "execute_result"
    }
   ],
   "source": [
    "'''ampl = psi_in1.trans()*psi_out1\n",
    "prob = ampl.dag()*ampl\n",
    "prob\n",
    "'''"
   ]
  },
  {
   "cell_type": "code",
   "execution_count": 50,
   "metadata": {},
   "outputs": [
    {
     "data": {
      "text/plain": [
       "'psi_in1\\n'"
      ]
     },
     "execution_count": 50,
     "metadata": {},
     "output_type": "execute_result"
    }
   ],
   "source": [
    "'''psi_in1\n",
    "'''"
   ]
  },
  {
   "cell_type": "code",
   "execution_count": 51,
   "metadata": {},
   "outputs": [
    {
     "data": {
      "text/plain": [
       "'psi_out1\\n'"
      ]
     },
     "execution_count": 51,
     "metadata": {},
     "output_type": "execute_result"
    }
   ],
   "source": [
    "'''psi_out1\n",
    "'''"
   ]
  },
  {
   "cell_type": "code",
   "execution_count": null,
   "metadata": {},
   "outputs": [],
   "source": []
  }
 ],
 "metadata": {
  "kernelspec": {
   "display_name": "Python 3",
   "language": "python",
   "name": "python3"
  },
  "language_info": {
   "codemirror_mode": {
    "name": "ipython",
    "version": 3
   },
   "file_extension": ".py",
   "mimetype": "text/x-python",
   "name": "python",
   "nbconvert_exporter": "python",
   "pygments_lexer": "ipython3",
   "version": "3.6.4"
  }
 },
 "nbformat": 4,
 "nbformat_minor": 2
}
